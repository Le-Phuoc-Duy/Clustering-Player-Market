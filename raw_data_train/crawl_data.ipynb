{
 "cells": [
  {
   "cell_type": "markdown",
   "metadata": {},
   "source": [
    "## Import các thư viện cần thiết cho việc thu thập dữ liệu"
   ]
  },
  {
   "cell_type": "code",
   "execution_count": 1,
   "metadata": {},
   "outputs": [],
   "source": [
    "import requests\n",
    "from bs4 import BeautifulSoup\n",
    "import pandas as pd"
   ]
  },
  {
   "cell_type": "markdown",
   "metadata": {},
   "source": [
    "### Khai báo các giá trị đường dẫn hỗ trợ việc thu thập thông tin"
   ]
  },
  {
   "cell_type": "code",
   "execution_count": 2,
   "metadata": {},
   "outputs": [],
   "source": [
    "BASE_URL = 'https://www.sofascore.com'\n",
    "UEFA_RANKINGS_URL = 'https://www.sofascore.com/football/rankings/fifa'\n",
    "\n",
    "COUNTRY_RANKINGS_URL = 'https://api.sofascore.com/api/v1/rankings/type/2'\n",
    "COUNTRY_CATEGORY_IDS_URL = 'https://api.sofascore.com/api/v1/sport/football/categories'\n",
    "TOURNAMENT_COUNTRY_URL = 'https://api.sofascore.com/api/v1/category/{country_category_id}/unique-tournaments'\n",
    "TOURNAMENT_SEASON_ID_URL = 'https://api.sofascore.com/api/v1/unique-tournament/{tournament_id}/featured-events'\n",
    "CLUB_TOURNAMENT_URL = 'https://api.sofascore.com/api/v1/unique-tournament/{tournament_id}/season/{tournament_season_id}/standings/total'\n",
    "\n",
    "TEAM_URL = BASE_URL + '/team/football/{team_slug}/{team_id}'\n",
    "\n",
    "headers = {\n",
    "  'User-Agent': 'Mozilla/5.0 (Windows NT 10.0; Win64; x64) AppleWebKit/537.36 (KHTML, like Gecko) Chrome/111.0.0.0 Safari/537.36'\n",
    "} "
   ]
  },
  {
   "cell_type": "markdown",
   "metadata": {},
   "source": [
    "### Lưu dữ liệu"
   ]
  },
  {
   "cell_type": "code",
   "execution_count": 3,
   "metadata": {},
   "outputs": [],
   "source": [
    "### Xuất dữ liệu vào file csv\n",
    "def create_csv_file(data, filename, header=True):\n",
    "  df = pd.DataFrame(data)\n",
    "  df.to_csv(filename, index=False, header=header)"
   ]
  },
  {
   "cell_type": "markdown",
   "metadata": {},
   "source": [
    "### Lấy danh sách các nước trên thế giới cùng hệ số của nước đó"
   ]
  },
  {
   "cell_type": "code",
   "execution_count": 4,
   "metadata": {},
   "outputs": [],
   "source": [
    "def scrape_country_rankings(country_rankings_url=COUNTRY_RANKINGS_URL):\n",
    "  response = requests.get(country_rankings_url, headers=headers)\n",
    "  if response.status_code != 200:\n",
    "    print('Failed to fetch country rankings page')\n",
    "    return\n",
    "  \n",
    "  data = response.json()\n",
    "\n",
    "  df = pd.DataFrame(data['rankings'])\n",
    "  countries = []\n",
    "\n",
    "  for index, row in df.iterrows():\n",
    "    countries.append({\n",
    "      'rank': row['team']['ranking'],\n",
    "      'name': row['team']['name'],\n",
    "      'name_code': row['team']['nameCode'],\n",
    "      'points': row['points'],\n",
    "      'slug': row['team']['slug'],\n",
    "    })\n",
    "\n",
    "  create_csv_file(countries, 'country_rankings.csv')"
   ]
  },
  {
   "cell_type": "markdown",
   "metadata": {},
   "source": [
    "### Lấy id các nước trong danh sách phân loại các nước"
   ]
  },
  {
   "cell_type": "code",
   "execution_count": 5,
   "metadata": {},
   "outputs": [],
   "source": [
    "def scrape_country_category_ids(country_category_ids_url=COUNTRY_CATEGORY_IDS_URL):\n",
    "  response = requests.get(country_category_ids_url, headers=headers)\n",
    "  if response.status_code != 200:\n",
    "    print('Failed to fetch country category page')\n",
    "    return\n",
    "  \n",
    "  data = response.json()\n",
    "\n",
    "  df = pd.DataFrame(data['categories'])\n",
    "\n",
    "  country_rankings = pd.read_csv('country_rankings.csv')\n",
    "  country_list = country_rankings['name'].tolist()\n",
    "\n",
    "  for index, row in df.iterrows():\n",
    "    if row['name'] in country_list:\n",
    "      country_rankings.loc[country_rankings['name'] == row['name'], 'category_id'] = row['id']\n",
    "\n",
    "  create_csv_file(country_rankings, 'country_rankings.csv')"
   ]
  },
  {
   "cell_type": "markdown",
   "metadata": {},
   "source": [
    "### Lấy liên kết đến mùa giải hiện tại của giải đấu lớn nhất của các nước"
   ]
  },
  {
   "cell_type": "code",
   "execution_count": 6,
   "metadata": {},
   "outputs": [],
   "source": [
    "def scrape_tournament_country(tournament_country_url=TOURNAMENT_COUNTRY_URL):\n",
    "  countries = pd.read_csv('country_rankings.csv')\n",
    "  for index, row in countries.iterrows():\n",
    "    if pd.isnull(row['category_id']):\n",
    "      continue\n",
    "    country_category_id = str(int(row['category_id']))\n",
    "\n",
    "    response = requests.get(tournament_country_url.format(country_category_id=country_category_id), headers=headers)\n",
    "    if response.status_code != 200:\n",
    "      print('Failed to fetch tournament country page')\n",
    "      continue\n",
    "    \n",
    "    data = response.json()\n",
    "    df = pd.DataFrame(data['groups'])\n",
    "    \n",
    "    for idx, r in df.iterrows():\n",
    "      tournament = r['uniqueTournaments']\n",
    "      countries.loc[countries['name'] == row['name'], 'tournament_name'] = tournament[0]['name']\n",
    "      countries.loc[countries['name'] == row['name'], 'tournament_slug'] = tournament[0]['slug']\n",
    "      countries.loc[countries['name'] == row['name'], 'tournament_id'] = tournament[0]['id']\n",
    "\n",
    "  create_csv_file(countries, 'country_rankings.csv')"
   ]
  },
  {
   "cell_type": "markdown",
   "metadata": {},
   "source": [
    "### Lấy id của mùa giải hiện tại của các giải đấu"
   ]
  },
  {
   "cell_type": "code",
   "execution_count": 7,
   "metadata": {},
   "outputs": [],
   "source": [
    "def scrape_tournament_season_id(tournament_season_id_url=TOURNAMENT_SEASON_ID_URL):\n",
    "  countries = pd.read_csv('country_rankings.csv')\n",
    "  for index, row in countries.iterrows():\n",
    "    if pd.isnull(row['tournament_id']):\n",
    "      continue\n",
    "    tournament_id = str(int(row['tournament_id']))\n",
    "    response = requests.get(tournament_season_id_url.format(tournament_id=tournament_id), headers=headers)\n",
    "    if response.status_code != 200:\n",
    "      print('Failed to fetch tournament season id page')\n",
    "      continue\n",
    "    \n",
    "    data = response.json()\n",
    "    df = pd.DataFrame(data['featuredEvents'])\n",
    "    \n",
    "    if df is not None and not df.empty:\n",
    "      if 'season' in df and len(df['season']) > 0 and 'id' in df['season'][0]:\n",
    "        countries.loc[countries['name'] == row['name'], 'tournament_season_id'] = df['season'][0]['id']\n",
    "\n",
    "  create_csv_file(countries, 'country_rankings.csv')"
   ]
  },
  {
   "cell_type": "markdown",
   "metadata": {},
   "source": [
    "### Lấy danh sách các Câu lạc bộ thuộc các giải đấu đã chọn"
   ]
  },
  {
   "cell_type": "code",
   "execution_count": 8,
   "metadata": {},
   "outputs": [],
   "source": [
    "def scrape_club_tournament(club_tournament_url=CLUB_TOURNAMENT_URL):\n",
    "  countries = pd.read_csv('country_rankings.csv')\n",
    "  clubs = []\n",
    "  for index, row in countries.iterrows():\n",
    "    if pd.isnull(row['tournament_id']) or pd.isnull(row['tournament_season_id']) or pd.isnull(row['tournament_name']):\n",
    "      continue\n",
    "    tournament_id = str(int(row['tournament_id']))\n",
    "    tournament_season_id = str(int(row['tournament_season_id']))\n",
    "    country_name = row['name']\n",
    "    tournament_name = row['tournament_name']\n",
    "    response = requests.get(club_tournament_url.format(tournament_id=tournament_id, tournament_season_id=tournament_season_id), headers=headers)\n",
    "    if response.status_code != 200:\n",
    "      print('Failed to fetch club tournament page')\n",
    "      continue\n",
    "    \n",
    "    data = response.json()\n",
    "\n",
    "    df = pd.DataFrame(data['standings'])\n",
    "    rows = pd.DataFrame(df['rows'][0])\n",
    "\n",
    "    for idx, r in rows.iterrows():\n",
    "      clubs.append({\n",
    "        'country': country_name,\n",
    "        'tournament': tournament_name,\n",
    "        'name': r['team']['name'],\n",
    "        'short_name': r['team']['shortName'],\n",
    "        'name_code': r['team']['nameCode'],\n",
    "        'position': r['position'],\n",
    "        'slug': r['team']['slug'],\n",
    "        'id': r['team']['id']\n",
    "      })\n",
    "\n",
    "\n",
    "  create_csv_file(clubs, 'club_tournament.csv')"
   ]
  },
  {
   "cell_type": "markdown",
   "metadata": {},
   "source": [
    "### Lấy link của các cầu thủ"
   ]
  },
  {
   "cell_type": "code",
   "execution_count": 9,
   "metadata": {},
   "outputs": [],
   "source": [
    "def scrape_player_links(team_base_url=TEAM_URL):\n",
    "  link_players = []\n",
    "\n",
    "  clubs = pd.read_csv('club_tournament.csv')\n",
    "\n",
    "  for index, club in clubs.iterrows():\n",
    "    if pd.isnull(club['slug']) or pd.isnull(club['id']) or pd.isnull(club['name']):\n",
    "      continue\n",
    "    club_name = club['name']\n",
    "    club_slug = club['slug']\n",
    "    club_id = str(int(club['id']))\n",
    "\n",
    "    response = requests.get(team_base_url.format(team_slug=club_slug, team_id=club_id), headers=headers)\n",
    "    if response.status_code != 200:\n",
    "      print('Failed to fetch player links page')\n",
    "      continue\n",
    "    soup = BeautifulSoup(response.content, 'html.parser')\n",
    "\n",
    "    div_players = soup.find_all('div', class_='Box gDjnsl')\n",
    "    \n",
    "    if div_players:\n",
    "      for player in div_players:\n",
    "        player_url = player.find('a')\n",
    "        if player_url:\n",
    "          link_players.append({\n",
    "            'club': club_name,\n",
    "            'player_link': player_url.get('href')\n",
    "          })\n",
    "\n",
    "  filename = 'player_links.csv'\n",
    "  create_csv_file(link_players, filename)"
   ]
  },
  {
   "cell_type": "markdown",
   "metadata": {},
   "source": [
    "### Main"
   ]
  },
  {
   "cell_type": "code",
   "execution_count": 10,
   "metadata": {},
   "outputs": [
    {
     "name": "stdout",
     "output_type": "stream",
     "text": [
      "Failed to fetch club tournament page\n",
      "Failed to fetch club tournament page\n",
      "Failed to fetch club tournament page\n",
      "Failed to fetch player links page\n",
      "Failed to fetch player links page\n"
     ]
    }
   ],
   "source": [
    "scrape_country_rankings()\n",
    "scrape_country_category_ids()\n",
    "scrape_tournament_country()\n",
    "scrape_tournament_season_id()\n",
    "scrape_club_tournament()\n",
    "scrape_player_links()"
   ]
  }
 ],
 "metadata": {
  "kernelspec": {
   "display_name": "Python 3",
   "language": "python",
   "name": "python3"
  },
  "language_info": {
   "codemirror_mode": {
    "name": "ipython",
    "version": 3
   },
   "file_extension": ".py",
   "mimetype": "text/x-python",
   "name": "python",
   "nbconvert_exporter": "python",
   "pygments_lexer": "ipython3",
   "version": "3.12.1"
  }
 },
 "nbformat": 4,
 "nbformat_minor": 2
}
