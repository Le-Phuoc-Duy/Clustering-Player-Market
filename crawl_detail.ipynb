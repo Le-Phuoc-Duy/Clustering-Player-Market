{
 "cells": [
  {
   "cell_type": "code",
   "execution_count": 81,
   "metadata": {},
   "outputs": [],
   "source": [
    "import requests\n",
    "from bs4 import BeautifulSoup\n",
    "import pandas as pd"
   ]
  },
  {
   "cell_type": "code",
   "execution_count": 82,
   "metadata": {},
   "outputs": [],
   "source": [
    "BASE_URL = 'https://www.sofascore.com'\n",
    "\n",
    "ATTRIBUTE_OVERVIEW_API = 'https://api.sofascore.com/api/v1/player/{id}/attribute-overviews'\n",
    "LAST_YEAR_SUMMARY_API = 'https://api.sofascore.com/api/v1/player/{id}/last-year-summary'\n",
    "headers = {\n",
    "  'User-Agent': 'Mozilla/5.0 (Windows NT 10.0; Win64; x64) AppleWebKit/537.36 (KHTML, like Gecko) Chrome/111.0.0.0 Safari/537.36'\n",
    "} "
   ]
  },
  {
   "cell_type": "markdown",
   "metadata": {},
   "source": [
    "### Lưu dữ liệu"
   ]
  },
  {
   "cell_type": "code",
   "execution_count": 83,
   "metadata": {},
   "outputs": [],
   "source": [
    "### Xuất dữ liệu vào file csv\n",
    "def create_csv_file(data, filename, header=True, mode='w'):\n",
    "  df = pd.DataFrame(data)\n",
    "  df.to_csv(filename, index=False, mode=mode, header=header)"
   ]
  },
  {
   "cell_type": "markdown",
   "metadata": {},
   "source": [
    "### Lấy dữ liệu thông tin cơ bản"
   ]
  },
  {
   "cell_type": "code",
   "execution_count": 84,
   "metadata": {},
   "outputs": [],
   "source": [
    "def get_profile_info(url):\n",
    "    response = requests.get(url, headers=headers)\n",
    "    if response.status_code != 200:\n",
    "        return None\n",
    "    \n",
    "    soup = BeautifulSoup(response.content, \"html.parser\")\n",
    "\n",
    "    tournament_tag = soup.select(\"ul.sc-4da3a94c-0.cECKqR\")\n",
    "\n",
    "    name_tag = soup.select_one(\"h2.Text.gcxwef\")\n",
    "    club_tag = soup.select_one(\"div.Text.jzzmLj\")\n",
    "\n",
    "    market_value_tag = soup.select_one(\"div.Text.iumpyb\")\n",
    "    \n",
    "    info_titles = soup.select(\"div.Text.kQQxFk\")\n",
    "    info_values = soup.select(\"div.Text.hnfikr\")\n",
    "\n",
    "    tournament_elements = tournament_tag[0].find_all('a')\n",
    "    \n",
    "\n",
    "    if len(set(info_titles)) < 7 or len(set(info_values)) < 6 or name_tag is None or club_tag is None or market_value_tag is None or tournament_tag is None or len(tournament_elements) < 3:\n",
    "        return None\n",
    "    \n",
    "    country = tournament_elements[1].text.strip()\n",
    "    league = tournament_elements[2].text.strip()\n",
    "\n",
    "    name = name_tag.text.strip()\n",
    "    club = club_tag.text.strip()\n",
    "    market_value = market_value_tag.text.strip()\n",
    "    nationality = info_values[0].find('div').find('span').text.strip()\n",
    "    birth_date = info_titles[1].text.strip()\n",
    "    age = info_values[1].text.strip()\n",
    "    height = info_values[2].text.strip()\n",
    "    preferred_foot = info_values[3].text.strip()\n",
    "    position = info_values[4].text.strip()\n",
    "    shirt_number = info_values[5].text.strip()\n",
    "\n",
    "    return {\n",
    "        \"name\": name,\n",
    "        \"market_value\": market_value,\n",
    "        \"club\": club,\n",
    "        \"country\": country,\n",
    "        \"league\": league,\n",
    "        \"nationality\": nationality,\n",
    "        \"birth_date\": birth_date,\n",
    "        \"age\": age,\n",
    "        \"height\": height,\n",
    "        \"preferred_foot\": preferred_foot,\n",
    "        \"position\": position,\n",
    "        \"shirt_number\": shirt_number, \n",
    "    }\n",
    "\n",
    "# get_profile_info('https://www.sofascore.com/player/serhou-guirassy/328027')"
   ]
  },
  {
   "cell_type": "markdown",
   "metadata": {},
   "source": [
    "### Lấy dữ liệu thông số thi đấu của cầu thủ"
   ]
  },
  {
   "cell_type": "code",
   "execution_count": 85,
   "metadata": {},
   "outputs": [],
   "source": [
    "def get_detail_info(id):\n",
    "    attribute_response = requests.get(ATTRIBUTE_OVERVIEW_API.format(id=id), headers=headers)\n",
    "    if attribute_response.status_code != 200:\n",
    "        return None\n",
    "    \n",
    "    summary_response = requests.get(LAST_YEAR_SUMMARY_API.format(id=id), headers=headers)\n",
    "    if summary_response.status_code != 200:\n",
    "        return None\n",
    "    \n",
    "    attribute_data = attribute_response.json()\n",
    "    summary_data = summary_response.json()\n",
    "\n",
    "    attribute = pd.DataFrame(attribute_data['playerAttributeOverviews'])\n",
    "    # print(attribute.columns)\n",
    "    if len(attribute) == 0 or 'position' not in attribute.columns:\n",
    "        return None\n",
    "    current_attribute = attribute.iloc[0]\n",
    "    # print(current_attribute)\n",
    "\n",
    "    attacking, technical, tactical, defending, creativity, saves, anticipation, ball_distribution, aerial = 0, 0, 0, 0, 0, 0, 0, 0, 0\n",
    "\n",
    "    if current_attribute['position'] == 'G':\n",
    "        if 'tactical' not in attribute.columns or 'saves' not in attribute.columns or 'anticipation' not in attribute.columns or 'ballDistribution' not in attribute.columns or 'aerial' not in attribute.columns:\n",
    "            return None\n",
    "        tactical = current_attribute['tactical']\n",
    "        saves = current_attribute['saves']\n",
    "        anticipation = current_attribute['anticipation']\n",
    "        ball_distribution = current_attribute['ballDistribution']\n",
    "        aerial = current_attribute['aerial']\n",
    "    else:\n",
    "        if 'attacking' not in attribute.columns or 'technical' not in attribute.columns or 'tactical' not in attribute.columns or 'defending' not in attribute.columns or 'creativity' not in attribute.columns:\n",
    "            return None\n",
    "        attacking = current_attribute['attacking']\n",
    "        technical = current_attribute['technical']\n",
    "        tactical = current_attribute['tactical']\n",
    "        defending = current_attribute['defending']\n",
    "        creativity = current_attribute['creativity']\n",
    "\n",
    "    summary = pd.DataFrame(summary_data['summary'])\n",
    "    if len(summary) == 0 or 'value' not in summary.columns:\n",
    "        return None\n",
    "    summary['value'] = summary['value'].astype(float)\n",
    "    summary = summary.loc[summary['value'].between(0.0, 10.0)]\n",
    "    avg_score_last_12_months = round(summary['value'].mean(), 2)\n",
    "    appearances_last_12_months = len(summary)\n",
    "\n",
    "    return {\n",
    "        \"attacking\": attacking,\n",
    "        \"technical\": technical,\n",
    "        \"tactical\": tactical,\n",
    "        \"defending\": defending,\n",
    "        \"creativity\": creativity,\n",
    "        \"saves\": saves,\n",
    "        \"anticipation\": anticipation,\n",
    "        \"ball_distribution\": ball_distribution,\n",
    "        \"aerial\": aerial,\n",
    "        \"avg_score_last_12_months\": avg_score_last_12_months,\n",
    "        \"appearances_last_12_months\": appearances_last_12_months\n",
    "    }\n",
    "\n",
    "# get_detail_info(328027)"
   ]
  },
  {
   "cell_type": "markdown",
   "metadata": {},
   "source": [
    "### Main"
   ]
  },
  {
   "cell_type": "code",
   "execution_count": 86,
   "metadata": {},
   "outputs": [
    {
     "name": "stdout",
     "output_type": "stream",
     "text": [
      "Processing 10 : 874576 ...\n",
      "Processing 11 : 901471 ...\n",
      "Processing 12 : 830885 ...\n",
      "Processing 13 : 1412474 ...\n",
      "Processing 14 : 1117022 ...\n",
      "Processing 15 : 1485206 ...\n",
      "Processing 16 : 1109356 ...\n",
      "Processing 17 : 1482389 ...\n",
      "Processing 18 : 933158 ...\n",
      "Processing 19 : 871788 ...\n"
     ]
    }
   ],
   "source": [
    "# Lấy link của các cầu thủ từ trang chủ\n",
    "player_links = pd.read_csv(\"./raw_data/player_links.csv\")\n",
    "player_links['url'] = BASE_URL + player_links['player_link']\n",
    "player_links['id'] = player_links['player_link'].apply(lambda x: x.split('/')[-1])\n",
    "\n",
    "players_data = []\n",
    "# Duyệt qua từng link cầu thủ\n",
    "for index, row in player_links.iterrows():\n",
    "    if index >= 10 and index < 20:\n",
    "        print(f\"Processing {index} : {row['id']} ...\")\n",
    "        player_detail = get_detail_info(row['id'])\n",
    "        if player_detail is None:\n",
    "            continue\n",
    "        player_profile = get_profile_info(row['url'])\n",
    "        if player_profile is None:\n",
    "            continue\n",
    "\n",
    "        player_data = {**player_profile, **player_detail}\n",
    "        players_data.append(player_data)\n",
    "\n",
    "    \n",
    "\n",
    "create_csv_file(players_data, 'players_data.csv', header=True, mode='a')"
   ]
  }
 ],
 "metadata": {
  "kernelspec": {
   "display_name": "Python 3",
   "language": "python",
   "name": "python3"
  },
  "language_info": {
   "codemirror_mode": {
    "name": "ipython",
    "version": 3
   },
   "file_extension": ".py",
   "mimetype": "text/x-python",
   "name": "python",
   "nbconvert_exporter": "python",
   "pygments_lexer": "ipython3",
   "version": "3.12.1"
  }
 },
 "nbformat": 4,
 "nbformat_minor": 2
}
