{
 "cells": [
  {
   "cell_type": "code",
   "execution_count": 124,
   "metadata": {},
   "outputs": [],
   "source": [
    "import pandas as pd\n",
    "import numpy as np\n",
    "import re"
   ]
  },
  {
   "cell_type": "markdown",
   "metadata": {},
   "source": [
    "### ** Đọc dữ liệu **"
   ]
  },
  {
   "cell_type": "code",
   "execution_count": 125,
   "metadata": {},
   "outputs": [],
   "source": [
    "countries = pd.read_csv('./rawdata/country_rankings.csv')\n",
    "clubs = pd.read_csv('./rawdata/club_tournament.csv')\n",
    "players = pd.read_csv('./rawdata/players_data.csv')"
   ]
  },
  {
   "cell_type": "code",
   "execution_count": 126,
   "metadata": {},
   "outputs": [],
   "source": [
    "players = players.merge(countries[['name', 'points']], how='left', left_on='country', right_on='name')\n",
    "players = players.rename(columns={'points': 'point_of_tournament', 'name_x': 'name'})\n",
    "players = players.drop('name_y', axis=1)"
   ]
  },
  {
   "cell_type": "markdown",
   "metadata": {},
   "source": [
    "### ** Missing data **"
   ]
  },
  {
   "cell_type": "code",
   "execution_count": 127,
   "metadata": {},
   "outputs": [
    {
     "data": {
      "text/plain": [
       "name                            0\n",
       "market_value                    0\n",
       "club                            0\n",
       "country                         0\n",
       "league                          0\n",
       "nationality                     0\n",
       "birth_date                      0\n",
       "age                             0\n",
       "height                          0\n",
       "preferred_foot                  0\n",
       "position                        0\n",
       "shirt_number                    0\n",
       "attacking                       0\n",
       "technical                       0\n",
       "tactical                        0\n",
       "defending                       0\n",
       "creativity                      0\n",
       "saves                           0\n",
       "anticipation                    0\n",
       "ball_distribution               0\n",
       "aerial                          0\n",
       "avg_score_last_12_months        0\n",
       "appearances_last_12_months      0\n",
       "point_of_tournament           607\n",
       "dtype: int64"
      ]
     },
     "execution_count": 127,
     "metadata": {},
     "output_type": "execute_result"
    }
   ],
   "source": [
    "players.isna().sum()"
   ]
  },
  {
   "cell_type": "code",
   "execution_count": 128,
   "metadata": {},
   "outputs": [
    {
     "data": {
      "text/plain": [
       "array(['England Amateur', 'Switzerland Amateur', 'Czechia', 'Türkiye',\n",
       "       'Belgium Amateur'], dtype=object)"
      ]
     },
     "execution_count": 128,
     "metadata": {},
     "output_type": "execute_result"
    }
   ],
   "source": [
    "players[players['point_of_tournament'].isna()]['country'].unique()"
   ]
  },
  {
   "cell_type": "code",
   "execution_count": 129,
   "metadata": {},
   "outputs": [
    {
     "data": {
      "text/html": [
       "<div>\n",
       "<style scoped>\n",
       "    .dataframe tbody tr th:only-of-type {\n",
       "        vertical-align: middle;\n",
       "    }\n",
       "\n",
       "    .dataframe tbody tr th {\n",
       "        vertical-align: top;\n",
       "    }\n",
       "\n",
       "    .dataframe thead th {\n",
       "        text-align: right;\n",
       "    }\n",
       "</style>\n",
       "<table border=\"1\" class=\"dataframe\">\n",
       "  <thead>\n",
       "    <tr style=\"text-align: right;\">\n",
       "      <th></th>\n",
       "      <th>name</th>\n",
       "      <th>market_value</th>\n",
       "      <th>club</th>\n",
       "      <th>country</th>\n",
       "      <th>league</th>\n",
       "      <th>nationality</th>\n",
       "      <th>birth_date</th>\n",
       "      <th>age</th>\n",
       "      <th>height</th>\n",
       "      <th>preferred_foot</th>\n",
       "      <th>...</th>\n",
       "      <th>tactical</th>\n",
       "      <th>defending</th>\n",
       "      <th>creativity</th>\n",
       "      <th>saves</th>\n",
       "      <th>anticipation</th>\n",
       "      <th>ball_distribution</th>\n",
       "      <th>aerial</th>\n",
       "      <th>avg_score_last_12_months</th>\n",
       "      <th>appearances_last_12_months</th>\n",
       "      <th>point_of_tournament</th>\n",
       "    </tr>\n",
       "  </thead>\n",
       "  <tbody>\n",
       "    <tr>\n",
       "      <th>1193</th>\n",
       "      <td>Cesare Casadei</td>\n",
       "      <td>10.4M €</td>\n",
       "      <td>Chelsea U21</td>\n",
       "      <td>England Amateur</td>\n",
       "      <td>Premier League 2, Division 1</td>\n",
       "      <td>ITA</td>\n",
       "      <td>10 Jan 2003</td>\n",
       "      <td>21 yrs</td>\n",
       "      <td>186 cm</td>\n",
       "      <td>Right</td>\n",
       "      <td>...</td>\n",
       "      <td>47</td>\n",
       "      <td>51</td>\n",
       "      <td>50</td>\n",
       "      <td>0</td>\n",
       "      <td>0</td>\n",
       "      <td>0</td>\n",
       "      <td>0</td>\n",
       "      <td>7.01</td>\n",
       "      <td>41</td>\n",
       "      <td>NaN</td>\n",
       "    </tr>\n",
       "    <tr>\n",
       "      <th>1414</th>\n",
       "      <td>Oliver Arblaster</td>\n",
       "      <td>440K €</td>\n",
       "      <td>Sheffield United U21</td>\n",
       "      <td>England Amateur</td>\n",
       "      <td>Professional Development League</td>\n",
       "      <td>ENG</td>\n",
       "      <td>5 May 2004</td>\n",
       "      <td>19 yrs</td>\n",
       "      <td>180 cm</td>\n",
       "      <td>Right</td>\n",
       "      <td>...</td>\n",
       "      <td>47</td>\n",
       "      <td>48</td>\n",
       "      <td>51</td>\n",
       "      <td>0</td>\n",
       "      <td>0</td>\n",
       "      <td>0</td>\n",
       "      <td>0</td>\n",
       "      <td>6.98</td>\n",
       "      <td>28</td>\n",
       "      <td>NaN</td>\n",
       "    </tr>\n",
       "    <tr>\n",
       "      <th>5620</th>\n",
       "      <td>Francis Momoh</td>\n",
       "      <td>835K €</td>\n",
       "      <td>Grasshopper Club Zurich II</td>\n",
       "      <td>Switzerland Amateur</td>\n",
       "      <td>Erste Liga Classic</td>\n",
       "      <td>NGR</td>\n",
       "      <td>25 Mar 2001</td>\n",
       "      <td>23 yrs</td>\n",
       "      <td>187 cm</td>\n",
       "      <td>Right</td>\n",
       "      <td>...</td>\n",
       "      <td>33</td>\n",
       "      <td>26</td>\n",
       "      <td>50</td>\n",
       "      <td>0</td>\n",
       "      <td>0</td>\n",
       "      <td>0</td>\n",
       "      <td>0</td>\n",
       "      <td>6.90</td>\n",
       "      <td>21</td>\n",
       "      <td>NaN</td>\n",
       "    </tr>\n",
       "  </tbody>\n",
       "</table>\n",
       "<p>3 rows × 24 columns</p>\n",
       "</div>"
      ],
      "text/plain": [
       "                  name market_value                        club  \\\n",
       "1193    Cesare Casadei      10.4M €                 Chelsea U21   \n",
       "1414  Oliver Arblaster       440K €        Sheffield United U21   \n",
       "5620     Francis Momoh       835K €  Grasshopper Club Zurich II   \n",
       "\n",
       "                  country                           league nationality  \\\n",
       "1193      England Amateur     Premier League 2, Division 1         ITA   \n",
       "1414      England Amateur  Professional Development League         ENG   \n",
       "5620  Switzerland Amateur               Erste Liga Classic         NGR   \n",
       "\n",
       "       birth_date     age  height preferred_foot  ... tactical  defending  \\\n",
       "1193  10 Jan 2003  21 yrs  186 cm          Right  ...       47         51   \n",
       "1414   5 May 2004  19 yrs  180 cm          Right  ...       47         48   \n",
       "5620  25 Mar 2001  23 yrs  187 cm          Right  ...       33         26   \n",
       "\n",
       "      creativity  saves  anticipation  ball_distribution  aerial  \\\n",
       "1193          50      0             0                  0       0   \n",
       "1414          51      0             0                  0       0   \n",
       "5620          50      0             0                  0       0   \n",
       "\n",
       "      avg_score_last_12_months  appearances_last_12_months  \\\n",
       "1193                      7.01                          41   \n",
       "1414                      6.98                          28   \n",
       "5620                      6.90                          21   \n",
       "\n",
       "      point_of_tournament  \n",
       "1193                  NaN  \n",
       "1414                  NaN  \n",
       "5620                  NaN  \n",
       "\n",
       "[3 rows x 24 columns]"
      ]
     },
     "execution_count": 129,
     "metadata": {},
     "output_type": "execute_result"
    }
   ],
   "source": [
    "players[players['point_of_tournament'].isna()].head(3)"
   ]
  },
  {
   "cell_type": "code",
   "execution_count": 130,
   "metadata": {},
   "outputs": [],
   "source": [
    "players = players[~players['point_of_tournament'].isna()]"
   ]
  },
  {
   "cell_type": "code",
   "execution_count": 131,
   "metadata": {},
   "outputs": [
    {
     "data": {
      "text/html": [
       "<div>\n",
       "<style scoped>\n",
       "    .dataframe tbody tr th:only-of-type {\n",
       "        vertical-align: middle;\n",
       "    }\n",
       "\n",
       "    .dataframe tbody tr th {\n",
       "        vertical-align: top;\n",
       "    }\n",
       "\n",
       "    .dataframe thead th {\n",
       "        text-align: right;\n",
       "    }\n",
       "</style>\n",
       "<table border=\"1\" class=\"dataframe\">\n",
       "  <thead>\n",
       "    <tr style=\"text-align: right;\">\n",
       "      <th></th>\n",
       "      <th>name</th>\n",
       "      <th>market_value</th>\n",
       "      <th>club</th>\n",
       "      <th>country</th>\n",
       "      <th>league</th>\n",
       "      <th>nationality</th>\n",
       "      <th>birth_date</th>\n",
       "      <th>age</th>\n",
       "      <th>height</th>\n",
       "      <th>preferred_foot</th>\n",
       "      <th>...</th>\n",
       "      <th>tactical</th>\n",
       "      <th>defending</th>\n",
       "      <th>creativity</th>\n",
       "      <th>saves</th>\n",
       "      <th>anticipation</th>\n",
       "      <th>ball_distribution</th>\n",
       "      <th>aerial</th>\n",
       "      <th>avg_score_last_12_months</th>\n",
       "      <th>appearances_last_12_months</th>\n",
       "      <th>point_of_tournament</th>\n",
       "    </tr>\n",
       "  </thead>\n",
       "  <tbody>\n",
       "  </tbody>\n",
       "</table>\n",
       "<p>0 rows × 24 columns</p>\n",
       "</div>"
      ],
      "text/plain": [
       "Empty DataFrame\n",
       "Columns: [name, market_value, club, country, league, nationality, birth_date, age, height, preferred_foot, position, shirt_number, attacking, technical, tactical, defending, creativity, saves, anticipation, ball_distribution, aerial, avg_score_last_12_months, appearances_last_12_months, point_of_tournament]\n",
       "Index: []\n",
       "\n",
       "[0 rows x 24 columns]"
      ]
     },
     "execution_count": 131,
     "metadata": {},
     "output_type": "execute_result"
    }
   ],
   "source": [
    "players[players['point_of_tournament'].isna()].head(3)"
   ]
  },
  {
   "cell_type": "code",
   "execution_count": 132,
   "metadata": {},
   "outputs": [],
   "source": [
    "players = players.drop('point_of_tournament', axis=1)"
   ]
  },
  {
   "cell_type": "markdown",
   "metadata": {},
   "source": [
    "### ** Xử lý dữ liệu **"
   ]
  },
  {
   "cell_type": "markdown",
   "metadata": {},
   "source": [
    "#### 1. Xử lý dữ liệu 'market_value'"
   ]
  },
  {
   "cell_type": "code",
   "execution_count": 133,
   "metadata": {},
   "outputs": [
    {
     "data": {
      "text/html": [
       "<div>\n",
       "<style scoped>\n",
       "    .dataframe tbody tr th:only-of-type {\n",
       "        vertical-align: middle;\n",
       "    }\n",
       "\n",
       "    .dataframe tbody tr th {\n",
       "        vertical-align: top;\n",
       "    }\n",
       "\n",
       "    .dataframe thead th {\n",
       "        text-align: right;\n",
       "    }\n",
       "</style>\n",
       "<table border=\"1\" class=\"dataframe\">\n",
       "  <thead>\n",
       "    <tr style=\"text-align: right;\">\n",
       "      <th></th>\n",
       "      <th>name</th>\n",
       "      <th>market_value</th>\n",
       "    </tr>\n",
       "  </thead>\n",
       "  <tbody>\n",
       "    <tr>\n",
       "      <th>0</th>\n",
       "      <td>Luciano Gondou</td>\n",
       "      <td>7.4M €</td>\n",
       "    </tr>\n",
       "    <tr>\n",
       "      <th>1</th>\n",
       "      <td>Maximiliano Romero</td>\n",
       "      <td>2.5M €</td>\n",
       "    </tr>\n",
       "    <tr>\n",
       "      <th>2</th>\n",
       "      <td>Gastón Verón</td>\n",
       "      <td>1.2M €</td>\n",
       "    </tr>\n",
       "  </tbody>\n",
       "</table>\n",
       "</div>"
      ],
      "text/plain": [
       "                 name market_value\n",
       "0      Luciano Gondou       7.4M €\n",
       "1  Maximiliano Romero       2.5M €\n",
       "2        Gastón Verón       1.2M €"
      ]
     },
     "execution_count": 133,
     "metadata": {},
     "output_type": "execute_result"
    }
   ],
   "source": [
    "players[['name', 'market_value']].head(3)"
   ]
  },
  {
   "cell_type": "code",
   "execution_count": 134,
   "metadata": {},
   "outputs": [
    {
     "name": "stdout",
     "output_type": "stream",
     "text": [
      "{'K', 'M'}\n"
     ]
    }
   ],
   "source": [
    "all_values = players['market_value']\n",
    "unique_letters = set()\n",
    "\n",
    "for value in all_values:\n",
    "    letters = re.findall('[A-Za-z]', value)\n",
    "    unique_letters.update(letters)\n",
    "print(unique_letters)"
   ]
  },
  {
   "cell_type": "code",
   "execution_count": 135,
   "metadata": {},
   "outputs": [],
   "source": [
    "# Chuyển đổi cột giá 'market value' theo giá tương ứng\n",
    "players['market_value'] = players['market_value'].apply(lambda x: x.split(\" \")[0].replace(\"M\", \"000\"))\n",
    "players['market_value'] = players['market_value'].apply(lambda x: x.split(\" \")[0].replace(\"K\", \"\"))"
   ]
  },
  {
   "cell_type": "code",
   "execution_count": 136,
   "metadata": {},
   "outputs": [
    {
     "data": {
      "text/html": [
       "<div>\n",
       "<style scoped>\n",
       "    .dataframe tbody tr th:only-of-type {\n",
       "        vertical-align: middle;\n",
       "    }\n",
       "\n",
       "    .dataframe tbody tr th {\n",
       "        vertical-align: top;\n",
       "    }\n",
       "\n",
       "    .dataframe thead th {\n",
       "        text-align: right;\n",
       "    }\n",
       "</style>\n",
       "<table border=\"1\" class=\"dataframe\">\n",
       "  <thead>\n",
       "    <tr style=\"text-align: right;\">\n",
       "      <th></th>\n",
       "      <th>name</th>\n",
       "      <th>market_value</th>\n",
       "    </tr>\n",
       "  </thead>\n",
       "  <tbody>\n",
       "    <tr>\n",
       "      <th>0</th>\n",
       "      <td>Luciano Gondou</td>\n",
       "      <td>7.4000</td>\n",
       "    </tr>\n",
       "    <tr>\n",
       "      <th>1</th>\n",
       "      <td>Maximiliano Romero</td>\n",
       "      <td>2.5000</td>\n",
       "    </tr>\n",
       "    <tr>\n",
       "      <th>2</th>\n",
       "      <td>Gastón Verón</td>\n",
       "      <td>1.2000</td>\n",
       "    </tr>\n",
       "  </tbody>\n",
       "</table>\n",
       "</div>"
      ],
      "text/plain": [
       "                 name market_value\n",
       "0      Luciano Gondou       7.4000\n",
       "1  Maximiliano Romero       2.5000\n",
       "2        Gastón Verón       1.2000"
      ]
     },
     "execution_count": 136,
     "metadata": {},
     "output_type": "execute_result"
    }
   ],
   "source": [
    "players[['name', 'market_value']].head(3)"
   ]
  },
  {
   "cell_type": "markdown",
   "metadata": {},
   "source": [
    "#### 2. Xử lý dữ liệu 'age'"
   ]
  },
  {
   "cell_type": "code",
   "execution_count": 137,
   "metadata": {},
   "outputs": [
    {
     "data": {
      "text/html": [
       "<div>\n",
       "<style scoped>\n",
       "    .dataframe tbody tr th:only-of-type {\n",
       "        vertical-align: middle;\n",
       "    }\n",
       "\n",
       "    .dataframe tbody tr th {\n",
       "        vertical-align: top;\n",
       "    }\n",
       "\n",
       "    .dataframe thead th {\n",
       "        text-align: right;\n",
       "    }\n",
       "</style>\n",
       "<table border=\"1\" class=\"dataframe\">\n",
       "  <thead>\n",
       "    <tr style=\"text-align: right;\">\n",
       "      <th></th>\n",
       "      <th>name</th>\n",
       "      <th>age</th>\n",
       "    </tr>\n",
       "  </thead>\n",
       "  <tbody>\n",
       "    <tr>\n",
       "      <th>0</th>\n",
       "      <td>Luciano Gondou</td>\n",
       "      <td>22 yrs</td>\n",
       "    </tr>\n",
       "    <tr>\n",
       "      <th>1</th>\n",
       "      <td>Maximiliano Romero</td>\n",
       "      <td>25 yrs</td>\n",
       "    </tr>\n",
       "    <tr>\n",
       "      <th>2</th>\n",
       "      <td>Gastón Verón</td>\n",
       "      <td>22 yrs</td>\n",
       "    </tr>\n",
       "  </tbody>\n",
       "</table>\n",
       "</div>"
      ],
      "text/plain": [
       "                 name     age\n",
       "0      Luciano Gondou  22 yrs\n",
       "1  Maximiliano Romero  25 yrs\n",
       "2        Gastón Verón  22 yrs"
      ]
     },
     "execution_count": 137,
     "metadata": {},
     "output_type": "execute_result"
    }
   ],
   "source": [
    "players[['name', 'age']].head(3)"
   ]
  },
  {
   "cell_type": "code",
   "execution_count": 138,
   "metadata": {},
   "outputs": [],
   "source": [
    "# Sửa cột dữ liệu 'age'\n",
    "players['age'] = players['age'].apply(lambda x: x.split(\" \")[0])"
   ]
  },
  {
   "cell_type": "code",
   "execution_count": 139,
   "metadata": {},
   "outputs": [
    {
     "data": {
      "text/html": [
       "<div>\n",
       "<style scoped>\n",
       "    .dataframe tbody tr th:only-of-type {\n",
       "        vertical-align: middle;\n",
       "    }\n",
       "\n",
       "    .dataframe tbody tr th {\n",
       "        vertical-align: top;\n",
       "    }\n",
       "\n",
       "    .dataframe thead th {\n",
       "        text-align: right;\n",
       "    }\n",
       "</style>\n",
       "<table border=\"1\" class=\"dataframe\">\n",
       "  <thead>\n",
       "    <tr style=\"text-align: right;\">\n",
       "      <th></th>\n",
       "      <th>name</th>\n",
       "      <th>age</th>\n",
       "    </tr>\n",
       "  </thead>\n",
       "  <tbody>\n",
       "    <tr>\n",
       "      <th>0</th>\n",
       "      <td>Luciano Gondou</td>\n",
       "      <td>22</td>\n",
       "    </tr>\n",
       "    <tr>\n",
       "      <th>1</th>\n",
       "      <td>Maximiliano Romero</td>\n",
       "      <td>25</td>\n",
       "    </tr>\n",
       "    <tr>\n",
       "      <th>2</th>\n",
       "      <td>Gastón Verón</td>\n",
       "      <td>22</td>\n",
       "    </tr>\n",
       "  </tbody>\n",
       "</table>\n",
       "</div>"
      ],
      "text/plain": [
       "                 name age\n",
       "0      Luciano Gondou  22\n",
       "1  Maximiliano Romero  25\n",
       "2        Gastón Verón  22"
      ]
     },
     "execution_count": 139,
     "metadata": {},
     "output_type": "execute_result"
    }
   ],
   "source": [
    "players[['name', 'age']].head(3)"
   ]
  },
  {
   "cell_type": "markdown",
   "metadata": {},
   "source": [
    "#### 3. Xử lý dữ liệu 'height'"
   ]
  },
  {
   "cell_type": "code",
   "execution_count": 140,
   "metadata": {},
   "outputs": [
    {
     "data": {
      "text/html": [
       "<div>\n",
       "<style scoped>\n",
       "    .dataframe tbody tr th:only-of-type {\n",
       "        vertical-align: middle;\n",
       "    }\n",
       "\n",
       "    .dataframe tbody tr th {\n",
       "        vertical-align: top;\n",
       "    }\n",
       "\n",
       "    .dataframe thead th {\n",
       "        text-align: right;\n",
       "    }\n",
       "</style>\n",
       "<table border=\"1\" class=\"dataframe\">\n",
       "  <thead>\n",
       "    <tr style=\"text-align: right;\">\n",
       "      <th></th>\n",
       "      <th>name</th>\n",
       "      <th>height</th>\n",
       "    </tr>\n",
       "  </thead>\n",
       "  <tbody>\n",
       "    <tr>\n",
       "      <th>0</th>\n",
       "      <td>Luciano Gondou</td>\n",
       "      <td>189 cm</td>\n",
       "    </tr>\n",
       "    <tr>\n",
       "      <th>1</th>\n",
       "      <td>Maximiliano Romero</td>\n",
       "      <td>179 cm</td>\n",
       "    </tr>\n",
       "    <tr>\n",
       "      <th>2</th>\n",
       "      <td>Gastón Verón</td>\n",
       "      <td>184 cm</td>\n",
       "    </tr>\n",
       "  </tbody>\n",
       "</table>\n",
       "</div>"
      ],
      "text/plain": [
       "                 name  height\n",
       "0      Luciano Gondou  189 cm\n",
       "1  Maximiliano Romero  179 cm\n",
       "2        Gastón Verón  184 cm"
      ]
     },
     "execution_count": 140,
     "metadata": {},
     "output_type": "execute_result"
    }
   ],
   "source": [
    "players[['name', 'height']].head(3)"
   ]
  },
  {
   "cell_type": "code",
   "execution_count": 141,
   "metadata": {},
   "outputs": [],
   "source": [
    "players['height'] = players['height'].apply(lambda x: x.split(\" \")[0])"
   ]
  },
  {
   "cell_type": "code",
   "execution_count": 142,
   "metadata": {},
   "outputs": [
    {
     "data": {
      "text/html": [
       "<div>\n",
       "<style scoped>\n",
       "    .dataframe tbody tr th:only-of-type {\n",
       "        vertical-align: middle;\n",
       "    }\n",
       "\n",
       "    .dataframe tbody tr th {\n",
       "        vertical-align: top;\n",
       "    }\n",
       "\n",
       "    .dataframe thead th {\n",
       "        text-align: right;\n",
       "    }\n",
       "</style>\n",
       "<table border=\"1\" class=\"dataframe\">\n",
       "  <thead>\n",
       "    <tr style=\"text-align: right;\">\n",
       "      <th></th>\n",
       "      <th>name</th>\n",
       "      <th>height</th>\n",
       "    </tr>\n",
       "  </thead>\n",
       "  <tbody>\n",
       "    <tr>\n",
       "      <th>0</th>\n",
       "      <td>Luciano Gondou</td>\n",
       "      <td>189</td>\n",
       "    </tr>\n",
       "    <tr>\n",
       "      <th>1</th>\n",
       "      <td>Maximiliano Romero</td>\n",
       "      <td>179</td>\n",
       "    </tr>\n",
       "    <tr>\n",
       "      <th>2</th>\n",
       "      <td>Gastón Verón</td>\n",
       "      <td>184</td>\n",
       "    </tr>\n",
       "  </tbody>\n",
       "</table>\n",
       "</div>"
      ],
      "text/plain": [
       "                 name height\n",
       "0      Luciano Gondou    189\n",
       "1  Maximiliano Romero    179\n",
       "2        Gastón Verón    184"
      ]
     },
     "execution_count": 142,
     "metadata": {},
     "output_type": "execute_result"
    }
   ],
   "source": [
    "players[['name', 'height']].head(3)"
   ]
  },
  {
   "cell_type": "markdown",
   "metadata": {},
   "source": [
    "### ** Xóa bỏ cột dư thừa **"
   ]
  },
  {
   "cell_type": "markdown",
   "metadata": {},
   "source": [
    "#### 1. Xóa bỏ cột dư thừa của bảng 'countries'"
   ]
  },
  {
   "cell_type": "code",
   "execution_count": 143,
   "metadata": {},
   "outputs": [
    {
     "data": {
      "text/html": [
       "<div>\n",
       "<style scoped>\n",
       "    .dataframe tbody tr th:only-of-type {\n",
       "        vertical-align: middle;\n",
       "    }\n",
       "\n",
       "    .dataframe tbody tr th {\n",
       "        vertical-align: top;\n",
       "    }\n",
       "\n",
       "    .dataframe thead th {\n",
       "        text-align: right;\n",
       "    }\n",
       "</style>\n",
       "<table border=\"1\" class=\"dataframe\">\n",
       "  <thead>\n",
       "    <tr style=\"text-align: right;\">\n",
       "      <th></th>\n",
       "      <th>rank</th>\n",
       "      <th>name</th>\n",
       "      <th>name_code</th>\n",
       "      <th>points</th>\n",
       "      <th>slug</th>\n",
       "      <th>category_id</th>\n",
       "      <th>tournament_name</th>\n",
       "      <th>tournament_slug</th>\n",
       "      <th>tournament_id</th>\n",
       "      <th>tournament_season_id</th>\n",
       "    </tr>\n",
       "  </thead>\n",
       "  <tbody>\n",
       "    <tr>\n",
       "      <th>0</th>\n",
       "      <td>1</td>\n",
       "      <td>Argentina</td>\n",
       "      <td>ARG</td>\n",
       "      <td>1858.00</td>\n",
       "      <td>argentina</td>\n",
       "      <td>48.0</td>\n",
       "      <td>Liga Profesional de Fútbol</td>\n",
       "      <td>liga-profesional-de-futbol</td>\n",
       "      <td>155.0</td>\n",
       "      <td>57478.0</td>\n",
       "    </tr>\n",
       "    <tr>\n",
       "      <th>1</th>\n",
       "      <td>2</td>\n",
       "      <td>France</td>\n",
       "      <td>FRA</td>\n",
       "      <td>1840.59</td>\n",
       "      <td>france</td>\n",
       "      <td>7.0</td>\n",
       "      <td>Ligue 1</td>\n",
       "      <td>ligue-1</td>\n",
       "      <td>34.0</td>\n",
       "      <td>52571.0</td>\n",
       "    </tr>\n",
       "  </tbody>\n",
       "</table>\n",
       "</div>"
      ],
      "text/plain": [
       "   rank       name name_code   points       slug  category_id  \\\n",
       "0     1  Argentina       ARG  1858.00  argentina         48.0   \n",
       "1     2     France       FRA  1840.59     france          7.0   \n",
       "\n",
       "              tournament_name             tournament_slug  tournament_id  \\\n",
       "0  Liga Profesional de Fútbol  liga-profesional-de-futbol          155.0   \n",
       "1                     Ligue 1                     ligue-1           34.0   \n",
       "\n",
       "   tournament_season_id  \n",
       "0               57478.0  \n",
       "1               52571.0  "
      ]
     },
     "execution_count": 143,
     "metadata": {},
     "output_type": "execute_result"
    }
   ],
   "source": [
    "countries.head(2)"
   ]
  },
  {
   "cell_type": "code",
   "execution_count": 144,
   "metadata": {},
   "outputs": [],
   "source": [
    "countries = countries.drop(['slug', 'category_id', 'tournament_slug', 'tournament_id', 'tournament_season_id'], axis=1)"
   ]
  },
  {
   "cell_type": "code",
   "execution_count": 145,
   "metadata": {},
   "outputs": [
    {
     "data": {
      "text/html": [
       "<div>\n",
       "<style scoped>\n",
       "    .dataframe tbody tr th:only-of-type {\n",
       "        vertical-align: middle;\n",
       "    }\n",
       "\n",
       "    .dataframe tbody tr th {\n",
       "        vertical-align: top;\n",
       "    }\n",
       "\n",
       "    .dataframe thead th {\n",
       "        text-align: right;\n",
       "    }\n",
       "</style>\n",
       "<table border=\"1\" class=\"dataframe\">\n",
       "  <thead>\n",
       "    <tr style=\"text-align: right;\">\n",
       "      <th></th>\n",
       "      <th>rank</th>\n",
       "      <th>name</th>\n",
       "      <th>name_code</th>\n",
       "      <th>points</th>\n",
       "      <th>tournament_name</th>\n",
       "    </tr>\n",
       "  </thead>\n",
       "  <tbody>\n",
       "    <tr>\n",
       "      <th>0</th>\n",
       "      <td>1</td>\n",
       "      <td>Argentina</td>\n",
       "      <td>ARG</td>\n",
       "      <td>1858.00</td>\n",
       "      <td>Liga Profesional de Fútbol</td>\n",
       "    </tr>\n",
       "    <tr>\n",
       "      <th>1</th>\n",
       "      <td>2</td>\n",
       "      <td>France</td>\n",
       "      <td>FRA</td>\n",
       "      <td>1840.59</td>\n",
       "      <td>Ligue 1</td>\n",
       "    </tr>\n",
       "  </tbody>\n",
       "</table>\n",
       "</div>"
      ],
      "text/plain": [
       "   rank       name name_code   points             tournament_name\n",
       "0     1  Argentina       ARG  1858.00  Liga Profesional de Fútbol\n",
       "1     2     France       FRA  1840.59                     Ligue 1"
      ]
     },
     "execution_count": 145,
     "metadata": {},
     "output_type": "execute_result"
    }
   ],
   "source": [
    "countries.head(2)"
   ]
  },
  {
   "cell_type": "markdown",
   "metadata": {},
   "source": [
    "#### 2. Xóa bỏ các cột dư thừa của bảng 'clubs'"
   ]
  },
  {
   "cell_type": "code",
   "execution_count": 146,
   "metadata": {},
   "outputs": [
    {
     "data": {
      "text/html": [
       "<div>\n",
       "<style scoped>\n",
       "    .dataframe tbody tr th:only-of-type {\n",
       "        vertical-align: middle;\n",
       "    }\n",
       "\n",
       "    .dataframe tbody tr th {\n",
       "        vertical-align: top;\n",
       "    }\n",
       "\n",
       "    .dataframe thead th {\n",
       "        text-align: right;\n",
       "    }\n",
       "</style>\n",
       "<table border=\"1\" class=\"dataframe\">\n",
       "  <thead>\n",
       "    <tr style=\"text-align: right;\">\n",
       "      <th></th>\n",
       "      <th>country</th>\n",
       "      <th>tournament</th>\n",
       "      <th>name</th>\n",
       "      <th>short_name</th>\n",
       "      <th>name_code</th>\n",
       "      <th>position</th>\n",
       "      <th>slug</th>\n",
       "      <th>id</th>\n",
       "    </tr>\n",
       "  </thead>\n",
       "  <tbody>\n",
       "    <tr>\n",
       "      <th>0</th>\n",
       "      <td>Argentina</td>\n",
       "      <td>Liga Profesional de Fútbol</td>\n",
       "      <td>Argentinos Juniors</td>\n",
       "      <td>Argentinos Jrs.</td>\n",
       "      <td>ARG</td>\n",
       "      <td>1</td>\n",
       "      <td>argentinos-juniors</td>\n",
       "      <td>3216</td>\n",
       "    </tr>\n",
       "    <tr>\n",
       "      <th>1</th>\n",
       "      <td>Argentina</td>\n",
       "      <td>Liga Profesional de Fútbol</td>\n",
       "      <td>Atlético Tucumán</td>\n",
       "      <td>Atlético Tucumán</td>\n",
       "      <td>CAT</td>\n",
       "      <td>2</td>\n",
       "      <td>atletico-tucuman</td>\n",
       "      <td>36833</td>\n",
       "    </tr>\n",
       "  </tbody>\n",
       "</table>\n",
       "</div>"
      ],
      "text/plain": [
       "     country                  tournament                name  \\\n",
       "0  Argentina  Liga Profesional de Fútbol  Argentinos Juniors   \n",
       "1  Argentina  Liga Profesional de Fútbol    Atlético Tucumán   \n",
       "\n",
       "         short_name name_code  position                slug     id  \n",
       "0   Argentinos Jrs.       ARG         1  argentinos-juniors   3216  \n",
       "1  Atlético Tucumán       CAT         2    atletico-tucuman  36833  "
      ]
     },
     "execution_count": 146,
     "metadata": {},
     "output_type": "execute_result"
    }
   ],
   "source": [
    "clubs.head(2)"
   ]
  },
  {
   "cell_type": "code",
   "execution_count": 147,
   "metadata": {},
   "outputs": [],
   "source": [
    "clubs = clubs.drop(['slug', 'id'], axis=1)\n",
    "clubs = clubs[['name', 'short_name', 'name_code', 'position', 'tournament', 'country']]"
   ]
  },
  {
   "cell_type": "code",
   "execution_count": 148,
   "metadata": {},
   "outputs": [
    {
     "data": {
      "text/html": [
       "<div>\n",
       "<style scoped>\n",
       "    .dataframe tbody tr th:only-of-type {\n",
       "        vertical-align: middle;\n",
       "    }\n",
       "\n",
       "    .dataframe tbody tr th {\n",
       "        vertical-align: top;\n",
       "    }\n",
       "\n",
       "    .dataframe thead th {\n",
       "        text-align: right;\n",
       "    }\n",
       "</style>\n",
       "<table border=\"1\" class=\"dataframe\">\n",
       "  <thead>\n",
       "    <tr style=\"text-align: right;\">\n",
       "      <th></th>\n",
       "      <th>name</th>\n",
       "      <th>short_name</th>\n",
       "      <th>name_code</th>\n",
       "      <th>position</th>\n",
       "      <th>tournament</th>\n",
       "      <th>country</th>\n",
       "    </tr>\n",
       "  </thead>\n",
       "  <tbody>\n",
       "    <tr>\n",
       "      <th>0</th>\n",
       "      <td>Argentinos Juniors</td>\n",
       "      <td>Argentinos Jrs.</td>\n",
       "      <td>ARG</td>\n",
       "      <td>1</td>\n",
       "      <td>Liga Profesional de Fútbol</td>\n",
       "      <td>Argentina</td>\n",
       "    </tr>\n",
       "    <tr>\n",
       "      <th>1</th>\n",
       "      <td>Atlético Tucumán</td>\n",
       "      <td>Atlético Tucumán</td>\n",
       "      <td>CAT</td>\n",
       "      <td>2</td>\n",
       "      <td>Liga Profesional de Fútbol</td>\n",
       "      <td>Argentina</td>\n",
       "    </tr>\n",
       "  </tbody>\n",
       "</table>\n",
       "</div>"
      ],
      "text/plain": [
       "                 name        short_name name_code  position  \\\n",
       "0  Argentinos Juniors   Argentinos Jrs.       ARG         1   \n",
       "1    Atlético Tucumán  Atlético Tucumán       CAT         2   \n",
       "\n",
       "                   tournament    country  \n",
       "0  Liga Profesional de Fútbol  Argentina  \n",
       "1  Liga Profesional de Fútbol  Argentina  "
      ]
     },
     "execution_count": 148,
     "metadata": {},
     "output_type": "execute_result"
    }
   ],
   "source": [
    "clubs.head(2)"
   ]
  },
  {
   "cell_type": "markdown",
   "metadata": {},
   "source": [
    "#### 3. Xóa bỏ cột dư thừa của bảng 'players'"
   ]
  },
  {
   "cell_type": "code",
   "execution_count": 149,
   "metadata": {},
   "outputs": [
    {
     "data": {
      "text/plain": [
       "Index(['name', 'market_value', 'club', 'country', 'league', 'nationality',\n",
       "       'birth_date', 'age', 'height', 'preferred_foot', 'position',\n",
       "       'shirt_number', 'attacking', 'technical', 'tactical', 'defending',\n",
       "       'creativity', 'saves', 'anticipation', 'ball_distribution', 'aerial',\n",
       "       'avg_score_last_12_months', 'appearances_last_12_months'],\n",
       "      dtype='object')"
      ]
     },
     "execution_count": 149,
     "metadata": {},
     "output_type": "execute_result"
    }
   ],
   "source": [
    "players.columns"
   ]
  },
  {
   "cell_type": "code",
   "execution_count": 150,
   "metadata": {},
   "outputs": [],
   "source": [
    "players = players.drop(['birth_date'], axis=1)"
   ]
  },
  {
   "cell_type": "code",
   "execution_count": 151,
   "metadata": {},
   "outputs": [
    {
     "data": {
      "text/plain": [
       "Index(['name', 'market_value', 'club', 'country', 'league', 'nationality',\n",
       "       'age', 'height', 'preferred_foot', 'position', 'shirt_number',\n",
       "       'attacking', 'technical', 'tactical', 'defending', 'creativity',\n",
       "       'saves', 'anticipation', 'ball_distribution', 'aerial',\n",
       "       'avg_score_last_12_months', 'appearances_last_12_months'],\n",
       "      dtype='object')"
      ]
     },
     "execution_count": 151,
     "metadata": {},
     "output_type": "execute_result"
    }
   ],
   "source": [
    "players.columns"
   ]
  },
  {
   "cell_type": "markdown",
   "metadata": {},
   "source": [
    "### ** Chuyển đổi kiểu dữ liệu  **"
   ]
  },
  {
   "cell_type": "code",
   "execution_count": 152,
   "metadata": {},
   "outputs": [
    {
     "name": "stdout",
     "output_type": "stream",
     "text": [
      "<class 'pandas.core.frame.DataFrame'>\n",
      "Index: 11814 entries, 0 to 12420\n",
      "Data columns (total 22 columns):\n",
      " #   Column                      Non-Null Count  Dtype  \n",
      "---  ------                      --------------  -----  \n",
      " 0   name                        11814 non-null  object \n",
      " 1   market_value                11814 non-null  object \n",
      " 2   club                        11814 non-null  object \n",
      " 3   country                     11814 non-null  object \n",
      " 4   league                      11814 non-null  object \n",
      " 5   nationality                 11814 non-null  object \n",
      " 6   age                         11814 non-null  object \n",
      " 7   height                      11814 non-null  object \n",
      " 8   preferred_foot              11814 non-null  object \n",
      " 9   position                    11814 non-null  object \n",
      " 10  shirt_number                11814 non-null  int64  \n",
      " 11  attacking                   11814 non-null  int64  \n",
      " 12  technical                   11814 non-null  int64  \n",
      " 13  tactical                    11814 non-null  int64  \n",
      " 14  defending                   11814 non-null  int64  \n",
      " 15  creativity                  11814 non-null  int64  \n",
      " 16  saves                       11814 non-null  int64  \n",
      " 17  anticipation                11814 non-null  int64  \n",
      " 18  ball_distribution           11814 non-null  int64  \n",
      " 19  aerial                      11814 non-null  int64  \n",
      " 20  avg_score_last_12_months    11814 non-null  float64\n",
      " 21  appearances_last_12_months  11814 non-null  int64  \n",
      "dtypes: float64(1), int64(11), object(10)\n",
      "memory usage: 2.1+ MB\n"
     ]
    }
   ],
   "source": [
    "players.info()"
   ]
  },
  {
   "cell_type": "code",
   "execution_count": 153,
   "metadata": {},
   "outputs": [],
   "source": [
    "players[['market_value', 'age', 'height']] = players[['market_value', 'age', 'height']].apply(pd.to_numeric, errors='coerce')"
   ]
  },
  {
   "cell_type": "code",
   "execution_count": 154,
   "metadata": {},
   "outputs": [
    {
     "name": "stdout",
     "output_type": "stream",
     "text": [
      "<class 'pandas.core.frame.DataFrame'>\n",
      "Index: 11814 entries, 0 to 12420\n",
      "Data columns (total 22 columns):\n",
      " #   Column                      Non-Null Count  Dtype  \n",
      "---  ------                      --------------  -----  \n",
      " 0   name                        11814 non-null  object \n",
      " 1   market_value                11814 non-null  float64\n",
      " 2   club                        11814 non-null  object \n",
      " 3   country                     11814 non-null  object \n",
      " 4   league                      11814 non-null  object \n",
      " 5   nationality                 11814 non-null  object \n",
      " 6   age                         11814 non-null  int64  \n",
      " 7   height                      11814 non-null  int64  \n",
      " 8   preferred_foot              11814 non-null  object \n",
      " 9   position                    11814 non-null  object \n",
      " 10  shirt_number                11814 non-null  int64  \n",
      " 11  attacking                   11814 non-null  int64  \n",
      " 12  technical                   11814 non-null  int64  \n",
      " 13  tactical                    11814 non-null  int64  \n",
      " 14  defending                   11814 non-null  int64  \n",
      " 15  creativity                  11814 non-null  int64  \n",
      " 16  saves                       11814 non-null  int64  \n",
      " 17  anticipation                11814 non-null  int64  \n",
      " 18  ball_distribution           11814 non-null  int64  \n",
      " 19  aerial                      11814 non-null  int64  \n",
      " 20  avg_score_last_12_months    11814 non-null  float64\n",
      " 21  appearances_last_12_months  11814 non-null  int64  \n",
      "dtypes: float64(2), int64(13), object(7)\n",
      "memory usage: 2.1+ MB\n"
     ]
    }
   ],
   "source": [
    "players.info()"
   ]
  },
  {
   "cell_type": "markdown",
   "metadata": {},
   "source": [
    "### ** Ghi lại file data clean **"
   ]
  },
  {
   "cell_type": "code",
   "execution_count": 157,
   "metadata": {},
   "outputs": [],
   "source": [
    "players.to_csv('./clean_data/players.csv', index=False)\n",
    "clubs.to_csv('./clean_data/clubs.csv', index=False)\n",
    "countries.to_csv('./clean_data/countries.csv', index=False)"
   ]
  }
 ],
 "metadata": {
  "kernelspec": {
   "display_name": "Python 3",
   "language": "python",
   "name": "python3"
  },
  "language_info": {
   "codemirror_mode": {
    "name": "ipython",
    "version": 3
   },
   "file_extension": ".py",
   "mimetype": "text/x-python",
   "name": "python",
   "nbconvert_exporter": "python",
   "pygments_lexer": "ipython3",
   "version": "3.12.1"
  }
 },
 "nbformat": 4,
 "nbformat_minor": 2
}
