{
 "cells": [
  {
   "cell_type": "code",
   "execution_count": 1,
   "metadata": {},
   "outputs": [],
   "source": [
    "import pandas as pd\n",
    "import numpy as np\n",
    "import re"
   ]
  },
  {
   "cell_type": "markdown",
   "metadata": {},
   "source": [
    "### ** Đọc dữ liệu **"
   ]
  },
  {
   "cell_type": "code",
   "execution_count": 2,
   "metadata": {},
   "outputs": [],
   "source": [
    "countries = pd.read_csv('../raw_data_train/country_rankings.csv')\n",
    "clubs = pd.read_csv('../raw_data_train/club_tournament.csv')\n",
    "players = pd.read_csv('../raw_data_train/players_data.csv')"
   ]
  },
  {
   "cell_type": "markdown",
   "metadata": {},
   "source": [
    "### ** Thêm dữ liệu hệ số giải đấu ('point_of_tournament') vào dữ liệu cầu thủ **"
   ]
  },
  {
   "cell_type": "code",
   "execution_count": 3,
   "metadata": {},
   "outputs": [],
   "source": [
    "players = players.merge(countries[['name', 'points']], how='left', left_on='country', right_on='name')\n",
    "players = players.rename(columns={'points': 'point_of_tournament', 'name_x': 'name'})\n",
    "players = players.drop('name_y', axis=1)"
   ]
  },
  {
   "cell_type": "markdown",
   "metadata": {},
   "source": [
    "### ** Xử lý dữ liệu **"
   ]
  },
  {
   "cell_type": "markdown",
   "metadata": {},
   "source": [
    "#### 1. Xử lý dữ liệu 'market_value'"
   ]
  },
  {
   "cell_type": "code",
   "execution_count": 4,
   "metadata": {},
   "outputs": [
    {
     "data": {
      "text/html": [
       "<div>\n",
       "<style scoped>\n",
       "    .dataframe tbody tr th:only-of-type {\n",
       "        vertical-align: middle;\n",
       "    }\n",
       "\n",
       "    .dataframe tbody tr th {\n",
       "        vertical-align: top;\n",
       "    }\n",
       "\n",
       "    .dataframe thead th {\n",
       "        text-align: right;\n",
       "    }\n",
       "</style>\n",
       "<table border=\"1\" class=\"dataframe\">\n",
       "  <thead>\n",
       "    <tr style=\"text-align: right;\">\n",
       "      <th></th>\n",
       "      <th>name</th>\n",
       "      <th>market_value</th>\n",
       "    </tr>\n",
       "  </thead>\n",
       "  <tbody>\n",
       "    <tr>\n",
       "      <th>0</th>\n",
       "      <td>Luciano Gondou</td>\n",
       "      <td>7.4M €</td>\n",
       "    </tr>\n",
       "    <tr>\n",
       "      <th>1</th>\n",
       "      <td>Maximiliano Romero</td>\n",
       "      <td>2.5M €</td>\n",
       "    </tr>\n",
       "    <tr>\n",
       "      <th>2</th>\n",
       "      <td>Gastón Verón</td>\n",
       "      <td>1.2M €</td>\n",
       "    </tr>\n",
       "  </tbody>\n",
       "</table>\n",
       "</div>"
      ],
      "text/plain": [
       "                 name market_value\n",
       "0      Luciano Gondou       7.4M €\n",
       "1  Maximiliano Romero       2.5M €\n",
       "2        Gastón Verón       1.2M €"
      ]
     },
     "execution_count": 4,
     "metadata": {},
     "output_type": "execute_result"
    }
   ],
   "source": [
    "players[['name', 'market_value']].head(3)"
   ]
  },
  {
   "cell_type": "code",
   "execution_count": 5,
   "metadata": {},
   "outputs": [
    {
     "name": "stdout",
     "output_type": "stream",
     "text": [
      "{'K', 'M'}\n"
     ]
    }
   ],
   "source": [
    "all_values = players['market_value']\n",
    "unique_letters = set()\n",
    "\n",
    "for value in all_values:\n",
    "    letters = re.findall('[A-Za-z]', value)\n",
    "    unique_letters.update(letters)\n",
    "print(unique_letters)"
   ]
  },
  {
   "cell_type": "code",
   "execution_count": 6,
   "metadata": {},
   "outputs": [],
   "source": [
    "players['market_value'] = players['market_value'].str.replace(' €', '')\n",
    "players['market_value'] = players['market_value'].apply(lambda x: int(float(x[:-1]) * 1 if x[-1] == 'K' else float(x[:-1]) * 1000))"
   ]
  },
  {
   "cell_type": "code",
   "execution_count": 7,
   "metadata": {},
   "outputs": [
    {
     "data": {
      "text/html": [
       "<div>\n",
       "<style scoped>\n",
       "    .dataframe tbody tr th:only-of-type {\n",
       "        vertical-align: middle;\n",
       "    }\n",
       "\n",
       "    .dataframe tbody tr th {\n",
       "        vertical-align: top;\n",
       "    }\n",
       "\n",
       "    .dataframe thead th {\n",
       "        text-align: right;\n",
       "    }\n",
       "</style>\n",
       "<table border=\"1\" class=\"dataframe\">\n",
       "  <thead>\n",
       "    <tr style=\"text-align: right;\">\n",
       "      <th></th>\n",
       "      <th>name</th>\n",
       "      <th>market_value</th>\n",
       "    </tr>\n",
       "  </thead>\n",
       "  <tbody>\n",
       "    <tr>\n",
       "      <th>0</th>\n",
       "      <td>Luciano Gondou</td>\n",
       "      <td>7400</td>\n",
       "    </tr>\n",
       "    <tr>\n",
       "      <th>1</th>\n",
       "      <td>Maximiliano Romero</td>\n",
       "      <td>2500</td>\n",
       "    </tr>\n",
       "    <tr>\n",
       "      <th>2</th>\n",
       "      <td>Gastón Verón</td>\n",
       "      <td>1200</td>\n",
       "    </tr>\n",
       "  </tbody>\n",
       "</table>\n",
       "</div>"
      ],
      "text/plain": [
       "                 name  market_value\n",
       "0      Luciano Gondou          7400\n",
       "1  Maximiliano Romero          2500\n",
       "2        Gastón Verón          1200"
      ]
     },
     "execution_count": 7,
     "metadata": {},
     "output_type": "execute_result"
    }
   ],
   "source": [
    "players[['name', 'market_value']].head(3)"
   ]
  },
  {
   "cell_type": "markdown",
   "metadata": {},
   "source": [
    "#### 2. Xử lý dữ liệu 'age'"
   ]
  },
  {
   "cell_type": "code",
   "execution_count": 8,
   "metadata": {},
   "outputs": [
    {
     "data": {
      "text/html": [
       "<div>\n",
       "<style scoped>\n",
       "    .dataframe tbody tr th:only-of-type {\n",
       "        vertical-align: middle;\n",
       "    }\n",
       "\n",
       "    .dataframe tbody tr th {\n",
       "        vertical-align: top;\n",
       "    }\n",
       "\n",
       "    .dataframe thead th {\n",
       "        text-align: right;\n",
       "    }\n",
       "</style>\n",
       "<table border=\"1\" class=\"dataframe\">\n",
       "  <thead>\n",
       "    <tr style=\"text-align: right;\">\n",
       "      <th></th>\n",
       "      <th>name</th>\n",
       "      <th>age</th>\n",
       "    </tr>\n",
       "  </thead>\n",
       "  <tbody>\n",
       "    <tr>\n",
       "      <th>0</th>\n",
       "      <td>Luciano Gondou</td>\n",
       "      <td>22 yrs</td>\n",
       "    </tr>\n",
       "    <tr>\n",
       "      <th>1</th>\n",
       "      <td>Maximiliano Romero</td>\n",
       "      <td>25 yrs</td>\n",
       "    </tr>\n",
       "    <tr>\n",
       "      <th>2</th>\n",
       "      <td>Gastón Verón</td>\n",
       "      <td>22 yrs</td>\n",
       "    </tr>\n",
       "  </tbody>\n",
       "</table>\n",
       "</div>"
      ],
      "text/plain": [
       "                 name     age\n",
       "0      Luciano Gondou  22 yrs\n",
       "1  Maximiliano Romero  25 yrs\n",
       "2        Gastón Verón  22 yrs"
      ]
     },
     "execution_count": 8,
     "metadata": {},
     "output_type": "execute_result"
    }
   ],
   "source": [
    "players[['name', 'age']].head(3)"
   ]
  },
  {
   "cell_type": "code",
   "execution_count": 9,
   "metadata": {},
   "outputs": [],
   "source": [
    "players['age'] = players['age'].apply(lambda x: x.split(\" \")[0])"
   ]
  },
  {
   "cell_type": "code",
   "execution_count": 10,
   "metadata": {},
   "outputs": [
    {
     "data": {
      "text/html": [
       "<div>\n",
       "<style scoped>\n",
       "    .dataframe tbody tr th:only-of-type {\n",
       "        vertical-align: middle;\n",
       "    }\n",
       "\n",
       "    .dataframe tbody tr th {\n",
       "        vertical-align: top;\n",
       "    }\n",
       "\n",
       "    .dataframe thead th {\n",
       "        text-align: right;\n",
       "    }\n",
       "</style>\n",
       "<table border=\"1\" class=\"dataframe\">\n",
       "  <thead>\n",
       "    <tr style=\"text-align: right;\">\n",
       "      <th></th>\n",
       "      <th>name</th>\n",
       "      <th>age</th>\n",
       "    </tr>\n",
       "  </thead>\n",
       "  <tbody>\n",
       "    <tr>\n",
       "      <th>0</th>\n",
       "      <td>Luciano Gondou</td>\n",
       "      <td>22</td>\n",
       "    </tr>\n",
       "    <tr>\n",
       "      <th>1</th>\n",
       "      <td>Maximiliano Romero</td>\n",
       "      <td>25</td>\n",
       "    </tr>\n",
       "    <tr>\n",
       "      <th>2</th>\n",
       "      <td>Gastón Verón</td>\n",
       "      <td>22</td>\n",
       "    </tr>\n",
       "  </tbody>\n",
       "</table>\n",
       "</div>"
      ],
      "text/plain": [
       "                 name age\n",
       "0      Luciano Gondou  22\n",
       "1  Maximiliano Romero  25\n",
       "2        Gastón Verón  22"
      ]
     },
     "execution_count": 10,
     "metadata": {},
     "output_type": "execute_result"
    }
   ],
   "source": [
    "players[['name', 'age']].head(3)"
   ]
  },
  {
   "cell_type": "markdown",
   "metadata": {},
   "source": [
    "#### 3. Xử lý dữ liệu 'height'"
   ]
  },
  {
   "cell_type": "code",
   "execution_count": 11,
   "metadata": {},
   "outputs": [
    {
     "data": {
      "text/html": [
       "<div>\n",
       "<style scoped>\n",
       "    .dataframe tbody tr th:only-of-type {\n",
       "        vertical-align: middle;\n",
       "    }\n",
       "\n",
       "    .dataframe tbody tr th {\n",
       "        vertical-align: top;\n",
       "    }\n",
       "\n",
       "    .dataframe thead th {\n",
       "        text-align: right;\n",
       "    }\n",
       "</style>\n",
       "<table border=\"1\" class=\"dataframe\">\n",
       "  <thead>\n",
       "    <tr style=\"text-align: right;\">\n",
       "      <th></th>\n",
       "      <th>name</th>\n",
       "      <th>height</th>\n",
       "    </tr>\n",
       "  </thead>\n",
       "  <tbody>\n",
       "    <tr>\n",
       "      <th>0</th>\n",
       "      <td>Luciano Gondou</td>\n",
       "      <td>189 cm</td>\n",
       "    </tr>\n",
       "    <tr>\n",
       "      <th>1</th>\n",
       "      <td>Maximiliano Romero</td>\n",
       "      <td>179 cm</td>\n",
       "    </tr>\n",
       "    <tr>\n",
       "      <th>2</th>\n",
       "      <td>Gastón Verón</td>\n",
       "      <td>184 cm</td>\n",
       "    </tr>\n",
       "  </tbody>\n",
       "</table>\n",
       "</div>"
      ],
      "text/plain": [
       "                 name  height\n",
       "0      Luciano Gondou  189 cm\n",
       "1  Maximiliano Romero  179 cm\n",
       "2        Gastón Verón  184 cm"
      ]
     },
     "execution_count": 11,
     "metadata": {},
     "output_type": "execute_result"
    }
   ],
   "source": [
    "players[['name', 'height']].head(3)"
   ]
  },
  {
   "cell_type": "code",
   "execution_count": 12,
   "metadata": {},
   "outputs": [],
   "source": [
    "players['height'] = players['height'].apply(lambda x: x.split(\" \")[0])"
   ]
  },
  {
   "cell_type": "code",
   "execution_count": 13,
   "metadata": {},
   "outputs": [
    {
     "data": {
      "text/html": [
       "<div>\n",
       "<style scoped>\n",
       "    .dataframe tbody tr th:only-of-type {\n",
       "        vertical-align: middle;\n",
       "    }\n",
       "\n",
       "    .dataframe tbody tr th {\n",
       "        vertical-align: top;\n",
       "    }\n",
       "\n",
       "    .dataframe thead th {\n",
       "        text-align: right;\n",
       "    }\n",
       "</style>\n",
       "<table border=\"1\" class=\"dataframe\">\n",
       "  <thead>\n",
       "    <tr style=\"text-align: right;\">\n",
       "      <th></th>\n",
       "      <th>name</th>\n",
       "      <th>height</th>\n",
       "    </tr>\n",
       "  </thead>\n",
       "  <tbody>\n",
       "    <tr>\n",
       "      <th>0</th>\n",
       "      <td>Luciano Gondou</td>\n",
       "      <td>189</td>\n",
       "    </tr>\n",
       "    <tr>\n",
       "      <th>1</th>\n",
       "      <td>Maximiliano Romero</td>\n",
       "      <td>179</td>\n",
       "    </tr>\n",
       "    <tr>\n",
       "      <th>2</th>\n",
       "      <td>Gastón Verón</td>\n",
       "      <td>184</td>\n",
       "    </tr>\n",
       "  </tbody>\n",
       "</table>\n",
       "</div>"
      ],
      "text/plain": [
       "                 name height\n",
       "0      Luciano Gondou    189\n",
       "1  Maximiliano Romero    179\n",
       "2        Gastón Verón    184"
      ]
     },
     "execution_count": 13,
     "metadata": {},
     "output_type": "execute_result"
    }
   ],
   "source": [
    "players[['name', 'height']].head(3)"
   ]
  },
  {
   "cell_type": "markdown",
   "metadata": {},
   "source": [
    "### ** Xóa bỏ cột dư thừa **"
   ]
  },
  {
   "cell_type": "markdown",
   "metadata": {},
   "source": [
    "#### 1. Xóa bỏ cột dư thừa của bảng 'countries'"
   ]
  },
  {
   "cell_type": "code",
   "execution_count": 14,
   "metadata": {},
   "outputs": [
    {
     "data": {
      "text/html": [
       "<div>\n",
       "<style scoped>\n",
       "    .dataframe tbody tr th:only-of-type {\n",
       "        vertical-align: middle;\n",
       "    }\n",
       "\n",
       "    .dataframe tbody tr th {\n",
       "        vertical-align: top;\n",
       "    }\n",
       "\n",
       "    .dataframe thead th {\n",
       "        text-align: right;\n",
       "    }\n",
       "</style>\n",
       "<table border=\"1\" class=\"dataframe\">\n",
       "  <thead>\n",
       "    <tr style=\"text-align: right;\">\n",
       "      <th></th>\n",
       "      <th>rank</th>\n",
       "      <th>name</th>\n",
       "      <th>name_code</th>\n",
       "      <th>points</th>\n",
       "      <th>slug</th>\n",
       "      <th>category_id</th>\n",
       "      <th>tournament_name</th>\n",
       "      <th>tournament_slug</th>\n",
       "      <th>tournament_id</th>\n",
       "      <th>tournament_season_id</th>\n",
       "    </tr>\n",
       "  </thead>\n",
       "  <tbody>\n",
       "    <tr>\n",
       "      <th>0</th>\n",
       "      <td>1</td>\n",
       "      <td>Argentina</td>\n",
       "      <td>ARG</td>\n",
       "      <td>1858.00</td>\n",
       "      <td>argentina</td>\n",
       "      <td>48.0</td>\n",
       "      <td>Liga Profesional de Fútbol</td>\n",
       "      <td>liga-profesional-de-futbol</td>\n",
       "      <td>155.0</td>\n",
       "      <td>57478.0</td>\n",
       "    </tr>\n",
       "    <tr>\n",
       "      <th>1</th>\n",
       "      <td>2</td>\n",
       "      <td>France</td>\n",
       "      <td>FRA</td>\n",
       "      <td>1840.59</td>\n",
       "      <td>france</td>\n",
       "      <td>7.0</td>\n",
       "      <td>Ligue 1</td>\n",
       "      <td>ligue-1</td>\n",
       "      <td>34.0</td>\n",
       "      <td>52571.0</td>\n",
       "    </tr>\n",
       "  </tbody>\n",
       "</table>\n",
       "</div>"
      ],
      "text/plain": [
       "   rank       name name_code   points       slug  category_id  \\\n",
       "0     1  Argentina       ARG  1858.00  argentina         48.0   \n",
       "1     2     France       FRA  1840.59     france          7.0   \n",
       "\n",
       "              tournament_name             tournament_slug  tournament_id  \\\n",
       "0  Liga Profesional de Fútbol  liga-profesional-de-futbol          155.0   \n",
       "1                     Ligue 1                     ligue-1           34.0   \n",
       "\n",
       "   tournament_season_id  \n",
       "0               57478.0  \n",
       "1               52571.0  "
      ]
     },
     "execution_count": 14,
     "metadata": {},
     "output_type": "execute_result"
    }
   ],
   "source": [
    "countries.head(2)"
   ]
  },
  {
   "cell_type": "code",
   "execution_count": 15,
   "metadata": {},
   "outputs": [],
   "source": [
    "countries = countries.drop(['slug', 'category_id', 'tournament_slug', 'tournament_id', 'tournament_season_id'], axis=1)"
   ]
  },
  {
   "cell_type": "code",
   "execution_count": 16,
   "metadata": {},
   "outputs": [
    {
     "data": {
      "text/html": [
       "<div>\n",
       "<style scoped>\n",
       "    .dataframe tbody tr th:only-of-type {\n",
       "        vertical-align: middle;\n",
       "    }\n",
       "\n",
       "    .dataframe tbody tr th {\n",
       "        vertical-align: top;\n",
       "    }\n",
       "\n",
       "    .dataframe thead th {\n",
       "        text-align: right;\n",
       "    }\n",
       "</style>\n",
       "<table border=\"1\" class=\"dataframe\">\n",
       "  <thead>\n",
       "    <tr style=\"text-align: right;\">\n",
       "      <th></th>\n",
       "      <th>rank</th>\n",
       "      <th>name</th>\n",
       "      <th>name_code</th>\n",
       "      <th>points</th>\n",
       "      <th>tournament_name</th>\n",
       "    </tr>\n",
       "  </thead>\n",
       "  <tbody>\n",
       "    <tr>\n",
       "      <th>0</th>\n",
       "      <td>1</td>\n",
       "      <td>Argentina</td>\n",
       "      <td>ARG</td>\n",
       "      <td>1858.00</td>\n",
       "      <td>Liga Profesional de Fútbol</td>\n",
       "    </tr>\n",
       "    <tr>\n",
       "      <th>1</th>\n",
       "      <td>2</td>\n",
       "      <td>France</td>\n",
       "      <td>FRA</td>\n",
       "      <td>1840.59</td>\n",
       "      <td>Ligue 1</td>\n",
       "    </tr>\n",
       "  </tbody>\n",
       "</table>\n",
       "</div>"
      ],
      "text/plain": [
       "   rank       name name_code   points             tournament_name\n",
       "0     1  Argentina       ARG  1858.00  Liga Profesional de Fútbol\n",
       "1     2     France       FRA  1840.59                     Ligue 1"
      ]
     },
     "execution_count": 16,
     "metadata": {},
     "output_type": "execute_result"
    }
   ],
   "source": [
    "countries.head(2)"
   ]
  },
  {
   "cell_type": "markdown",
   "metadata": {},
   "source": [
    "#### 2. Xóa bỏ các cột dư thừa của bảng 'clubs'"
   ]
  },
  {
   "cell_type": "code",
   "execution_count": 17,
   "metadata": {},
   "outputs": [
    {
     "data": {
      "text/html": [
       "<div>\n",
       "<style scoped>\n",
       "    .dataframe tbody tr th:only-of-type {\n",
       "        vertical-align: middle;\n",
       "    }\n",
       "\n",
       "    .dataframe tbody tr th {\n",
       "        vertical-align: top;\n",
       "    }\n",
       "\n",
       "    .dataframe thead th {\n",
       "        text-align: right;\n",
       "    }\n",
       "</style>\n",
       "<table border=\"1\" class=\"dataframe\">\n",
       "  <thead>\n",
       "    <tr style=\"text-align: right;\">\n",
       "      <th></th>\n",
       "      <th>country</th>\n",
       "      <th>tournament</th>\n",
       "      <th>name</th>\n",
       "      <th>short_name</th>\n",
       "      <th>name_code</th>\n",
       "      <th>position</th>\n",
       "      <th>slug</th>\n",
       "      <th>id</th>\n",
       "    </tr>\n",
       "  </thead>\n",
       "  <tbody>\n",
       "    <tr>\n",
       "      <th>0</th>\n",
       "      <td>Argentina</td>\n",
       "      <td>Liga Profesional de Fútbol</td>\n",
       "      <td>Argentinos Juniors</td>\n",
       "      <td>Argentinos Jrs.</td>\n",
       "      <td>ARG</td>\n",
       "      <td>1</td>\n",
       "      <td>argentinos-juniors</td>\n",
       "      <td>3216</td>\n",
       "    </tr>\n",
       "    <tr>\n",
       "      <th>1</th>\n",
       "      <td>Argentina</td>\n",
       "      <td>Liga Profesional de Fútbol</td>\n",
       "      <td>Atlético Tucumán</td>\n",
       "      <td>Atlético Tucumán</td>\n",
       "      <td>CAT</td>\n",
       "      <td>2</td>\n",
       "      <td>atletico-tucuman</td>\n",
       "      <td>36833</td>\n",
       "    </tr>\n",
       "  </tbody>\n",
       "</table>\n",
       "</div>"
      ],
      "text/plain": [
       "     country                  tournament                name  \\\n",
       "0  Argentina  Liga Profesional de Fútbol  Argentinos Juniors   \n",
       "1  Argentina  Liga Profesional de Fútbol    Atlético Tucumán   \n",
       "\n",
       "         short_name name_code  position                slug     id  \n",
       "0   Argentinos Jrs.       ARG         1  argentinos-juniors   3216  \n",
       "1  Atlético Tucumán       CAT         2    atletico-tucuman  36833  "
      ]
     },
     "execution_count": 17,
     "metadata": {},
     "output_type": "execute_result"
    }
   ],
   "source": [
    "clubs.head(2)"
   ]
  },
  {
   "cell_type": "code",
   "execution_count": 18,
   "metadata": {},
   "outputs": [],
   "source": [
    "clubs = clubs.drop(['slug', 'id'], axis=1)\n",
    "clubs = clubs[['name', 'short_name', 'name_code', 'position', 'tournament', 'country']]"
   ]
  },
  {
   "cell_type": "code",
   "execution_count": 19,
   "metadata": {},
   "outputs": [
    {
     "data": {
      "text/html": [
       "<div>\n",
       "<style scoped>\n",
       "    .dataframe tbody tr th:only-of-type {\n",
       "        vertical-align: middle;\n",
       "    }\n",
       "\n",
       "    .dataframe tbody tr th {\n",
       "        vertical-align: top;\n",
       "    }\n",
       "\n",
       "    .dataframe thead th {\n",
       "        text-align: right;\n",
       "    }\n",
       "</style>\n",
       "<table border=\"1\" class=\"dataframe\">\n",
       "  <thead>\n",
       "    <tr style=\"text-align: right;\">\n",
       "      <th></th>\n",
       "      <th>name</th>\n",
       "      <th>short_name</th>\n",
       "      <th>name_code</th>\n",
       "      <th>position</th>\n",
       "      <th>tournament</th>\n",
       "      <th>country</th>\n",
       "    </tr>\n",
       "  </thead>\n",
       "  <tbody>\n",
       "    <tr>\n",
       "      <th>0</th>\n",
       "      <td>Argentinos Juniors</td>\n",
       "      <td>Argentinos Jrs.</td>\n",
       "      <td>ARG</td>\n",
       "      <td>1</td>\n",
       "      <td>Liga Profesional de Fútbol</td>\n",
       "      <td>Argentina</td>\n",
       "    </tr>\n",
       "    <tr>\n",
       "      <th>1</th>\n",
       "      <td>Atlético Tucumán</td>\n",
       "      <td>Atlético Tucumán</td>\n",
       "      <td>CAT</td>\n",
       "      <td>2</td>\n",
       "      <td>Liga Profesional de Fútbol</td>\n",
       "      <td>Argentina</td>\n",
       "    </tr>\n",
       "  </tbody>\n",
       "</table>\n",
       "</div>"
      ],
      "text/plain": [
       "                 name        short_name name_code  position  \\\n",
       "0  Argentinos Juniors   Argentinos Jrs.       ARG         1   \n",
       "1    Atlético Tucumán  Atlético Tucumán       CAT         2   \n",
       "\n",
       "                   tournament    country  \n",
       "0  Liga Profesional de Fútbol  Argentina  \n",
       "1  Liga Profesional de Fútbol  Argentina  "
      ]
     },
     "execution_count": 19,
     "metadata": {},
     "output_type": "execute_result"
    }
   ],
   "source": [
    "clubs.head(2)"
   ]
  },
  {
   "cell_type": "markdown",
   "metadata": {},
   "source": [
    "#### 3. Xóa bỏ cột dư thừa của bảng 'players'"
   ]
  },
  {
   "cell_type": "code",
   "execution_count": 20,
   "metadata": {},
   "outputs": [
    {
     "data": {
      "text/plain": [
       "Index(['name', 'market_value', 'club', 'country', 'league', 'nationality',\n",
       "       'birth_date', 'age', 'height', 'preferred_foot', 'position',\n",
       "       'shirt_number', 'attacking', 'technical', 'tactical', 'defending',\n",
       "       'creativity', 'saves', 'anticipation', 'ball_distribution', 'aerial',\n",
       "       'avg_score_last_12_months', 'appearances_last_12_months',\n",
       "       'point_of_tournament'],\n",
       "      dtype='object')"
      ]
     },
     "execution_count": 20,
     "metadata": {},
     "output_type": "execute_result"
    }
   ],
   "source": [
    "players.columns"
   ]
  },
  {
   "cell_type": "code",
   "execution_count": 21,
   "metadata": {},
   "outputs": [],
   "source": [
    "players = players.drop(['birth_date'], axis=1)"
   ]
  },
  {
   "cell_type": "code",
   "execution_count": 22,
   "metadata": {},
   "outputs": [
    {
     "data": {
      "text/plain": [
       "Index(['name', 'market_value', 'club', 'country', 'league', 'nationality',\n",
       "       'age', 'height', 'preferred_foot', 'position', 'shirt_number',\n",
       "       'attacking', 'technical', 'tactical', 'defending', 'creativity',\n",
       "       'saves', 'anticipation', 'ball_distribution', 'aerial',\n",
       "       'avg_score_last_12_months', 'appearances_last_12_months',\n",
       "       'point_of_tournament'],\n",
       "      dtype='object')"
      ]
     },
     "execution_count": 22,
     "metadata": {},
     "output_type": "execute_result"
    }
   ],
   "source": [
    "players.columns"
   ]
  },
  {
   "cell_type": "markdown",
   "metadata": {},
   "source": [
    "### ** Chuyển đổi kiểu dữ liệu  **"
   ]
  },
  {
   "cell_type": "code",
   "execution_count": 23,
   "metadata": {},
   "outputs": [
    {
     "name": "stdout",
     "output_type": "stream",
     "text": [
      "<class 'pandas.core.frame.DataFrame'>\n",
      "RangeIndex: 12421 entries, 0 to 12420\n",
      "Data columns (total 23 columns):\n",
      " #   Column                      Non-Null Count  Dtype  \n",
      "---  ------                      --------------  -----  \n",
      " 0   name                        12421 non-null  object \n",
      " 1   market_value                12421 non-null  int64  \n",
      " 2   club                        12421 non-null  object \n",
      " 3   country                     12421 non-null  object \n",
      " 4   league                      12421 non-null  object \n",
      " 5   nationality                 12421 non-null  object \n",
      " 6   age                         12421 non-null  object \n",
      " 7   height                      12421 non-null  object \n",
      " 8   preferred_foot              12421 non-null  object \n",
      " 9   position                    12421 non-null  object \n",
      " 10  shirt_number                12421 non-null  int64  \n",
      " 11  attacking                   12421 non-null  int64  \n",
      " 12  technical                   12421 non-null  int64  \n",
      " 13  tactical                    12421 non-null  int64  \n",
      " 14  defending                   12421 non-null  int64  \n",
      " 15  creativity                  12421 non-null  int64  \n",
      " 16  saves                       12421 non-null  int64  \n",
      " 17  anticipation                12421 non-null  int64  \n",
      " 18  ball_distribution           12421 non-null  int64  \n",
      " 19  aerial                      12421 non-null  int64  \n",
      " 20  avg_score_last_12_months    12421 non-null  float64\n",
      " 21  appearances_last_12_months  12421 non-null  int64  \n",
      " 22  point_of_tournament         11814 non-null  float64\n",
      "dtypes: float64(2), int64(12), object(9)\n",
      "memory usage: 2.2+ MB\n"
     ]
    }
   ],
   "source": [
    "players.info()"
   ]
  },
  {
   "cell_type": "code",
   "execution_count": 24,
   "metadata": {},
   "outputs": [],
   "source": [
    "players[['market_value', 'age', 'height']] = players[['market_value', 'age', 'height']].apply(pd.to_numeric, errors='coerce')\n",
    "players['market_value'] = players['market_value'].astype(int)"
   ]
  },
  {
   "cell_type": "code",
   "execution_count": 25,
   "metadata": {},
   "outputs": [
    {
     "name": "stdout",
     "output_type": "stream",
     "text": [
      "<class 'pandas.core.frame.DataFrame'>\n",
      "RangeIndex: 12421 entries, 0 to 12420\n",
      "Data columns (total 23 columns):\n",
      " #   Column                      Non-Null Count  Dtype  \n",
      "---  ------                      --------------  -----  \n",
      " 0   name                        12421 non-null  object \n",
      " 1   market_value                12421 non-null  int32  \n",
      " 2   club                        12421 non-null  object \n",
      " 3   country                     12421 non-null  object \n",
      " 4   league                      12421 non-null  object \n",
      " 5   nationality                 12421 non-null  object \n",
      " 6   age                         12421 non-null  int64  \n",
      " 7   height                      12421 non-null  int64  \n",
      " 8   preferred_foot              12421 non-null  object \n",
      " 9   position                    12421 non-null  object \n",
      " 10  shirt_number                12421 non-null  int64  \n",
      " 11  attacking                   12421 non-null  int64  \n",
      " 12  technical                   12421 non-null  int64  \n",
      " 13  tactical                    12421 non-null  int64  \n",
      " 14  defending                   12421 non-null  int64  \n",
      " 15  creativity                  12421 non-null  int64  \n",
      " 16  saves                       12421 non-null  int64  \n",
      " 17  anticipation                12421 non-null  int64  \n",
      " 18  ball_distribution           12421 non-null  int64  \n",
      " 19  aerial                      12421 non-null  int64  \n",
      " 20  avg_score_last_12_months    12421 non-null  float64\n",
      " 21  appearances_last_12_months  12421 non-null  int64  \n",
      " 22  point_of_tournament         11814 non-null  float64\n",
      "dtypes: float64(2), int32(1), int64(13), object(7)\n",
      "memory usage: 2.1+ MB\n"
     ]
    }
   ],
   "source": [
    "players.info()"
   ]
  },
  {
   "cell_type": "markdown",
   "metadata": {},
   "source": [
    "### ** Trực quan dữ liệu sau khi bước đầu tiền xử lý **"
   ]
  },
  {
   "cell_type": "code",
   "execution_count": 26,
   "metadata": {},
   "outputs": [
    {
     "data": {
      "image/png": "[encoded data removed]",
      "text/plain": [
       "<Figure size 1400x600 with 1 Axes>"
      ]
     },
     "metadata": {},
     "output_type": "display_data"
    },
    {
     "data": {
      "image/png": "[encoded data removed]",
      "text/plain": [
       "<Figure size 1400x600 with 1 Axes>"
      ]
     },
     "metadata": {},
     "output_type": "display_data"
    }
   ],
   "source": [
    "import matplotlib.pyplot as plt\n",
    "import seaborn as sns\n",
    "\n",
    "players_numerics = players.select_dtypes(include=['float64', 'int64', 'int32'])\n",
    "\n",
    "def show_boxplot(df, title):\n",
    "    plt.rcParams['figure.figsize'] = [14,6]\n",
    "    sns.boxplot(data = df, orient=\"v\")\n",
    "    plt.title(title, fontsize = 16)\n",
    "    plt.ylabel(\"Range\", fontweight = 'bold')\n",
    "    plt.xlabel(\"Attributes\", fontweight = 'bold')\n",
    "    plt.xticks(rotation=90)\n",
    "    plt.show()\n",
    "\n",
    "show_boxplot(players_numerics.drop(['market_value'], axis=1),\"Players\")\n",
    "show_boxplot(players_numerics['market_value'].to_frame(),\"Players\")"
   ]
  },
  {
   "cell_type": "markdown",
   "metadata": {},
   "source": [
    "### ** Missing data **"
   ]
  },
  {
   "cell_type": "code",
   "execution_count": 27,
   "metadata": {},
   "outputs": [
    {
     "data": {
      "text/plain": [
       "name                            0\n",
       "market_value                    0\n",
       "club                            0\n",
       "country                         0\n",
       "league                          0\n",
       "nationality                     0\n",
       "age                             0\n",
       "height                          0\n",
       "preferred_foot                  0\n",
       "position                        0\n",
       "shirt_number                    0\n",
       "attacking                       0\n",
       "technical                       0\n",
       "tactical                        0\n",
       "defending                       0\n",
       "creativity                      0\n",
       "saves                           0\n",
       "anticipation                    0\n",
       "ball_distribution               0\n",
       "aerial                          0\n",
       "avg_score_last_12_months        0\n",
       "appearances_last_12_months      0\n",
       "point_of_tournament           607\n",
       "dtype: int64"
      ]
     },
     "execution_count": 27,
     "metadata": {},
     "output_type": "execute_result"
    }
   ],
   "source": [
    "players.isna().sum()"
   ]
  },
  {
   "cell_type": "code",
   "execution_count": 28,
   "metadata": {},
   "outputs": [
    {
     "data": {
      "text/plain": [
       "array(['England Amateur', 'Switzerland Amateur', 'Czechia', 'Türkiye',\n",
       "       'Belgium Amateur'], dtype=object)"
      ]
     },
     "execution_count": 28,
     "metadata": {},
     "output_type": "execute_result"
    }
   ],
   "source": [
    "players[players['point_of_tournament'].isna()]['country'].unique()"
   ]
  },
  {
   "cell_type": "code",
   "execution_count": 29,
   "metadata": {},
   "outputs": [],
   "source": [
    "players = players[~players['point_of_tournament'].isna()]"
   ]
  },
  {
   "cell_type": "code",
   "execution_count": 30,
   "metadata": {},
   "outputs": [
    {
     "data": {
      "text/html": [
       "<div>\n",
       "<style scoped>\n",
       "    .dataframe tbody tr th:only-of-type {\n",
       "        vertical-align: middle;\n",
       "    }\n",
       "\n",
       "    .dataframe tbody tr th {\n",
       "        vertical-align: top;\n",
       "    }\n",
       "\n",
       "    .dataframe thead th {\n",
       "        text-align: right;\n",
       "    }\n",
       "</style>\n",
       "<table border=\"1\" class=\"dataframe\">\n",
       "  <thead>\n",
       "    <tr style=\"text-align: right;\">\n",
       "      <th></th>\n",
       "      <th>name</th>\n",
       "      <th>market_value</th>\n",
       "      <th>club</th>\n",
       "      <th>country</th>\n",
       "      <th>league</th>\n",
       "      <th>nationality</th>\n",
       "      <th>age</th>\n",
       "      <th>height</th>\n",
       "      <th>preferred_foot</th>\n",
       "      <th>position</th>\n",
       "      <th>...</th>\n",
       "      <th>tactical</th>\n",
       "      <th>defending</th>\n",
       "      <th>creativity</th>\n",
       "      <th>saves</th>\n",
       "      <th>anticipation</th>\n",
       "      <th>ball_distribution</th>\n",
       "      <th>aerial</th>\n",
       "      <th>avg_score_last_12_months</th>\n",
       "      <th>appearances_last_12_months</th>\n",
       "      <th>point_of_tournament</th>\n",
       "    </tr>\n",
       "  </thead>\n",
       "  <tbody>\n",
       "  </tbody>\n",
       "</table>\n",
       "<p>0 rows × 23 columns</p>\n",
       "</div>"
      ],
      "text/plain": [
       "Empty DataFrame\n",
       "Columns: [name, market_value, club, country, league, nationality, age, height, preferred_foot, position, shirt_number, attacking, technical, tactical, defending, creativity, saves, anticipation, ball_distribution, aerial, avg_score_last_12_months, appearances_last_12_months, point_of_tournament]\n",
       "Index: []\n",
       "\n",
       "[0 rows x 23 columns]"
      ]
     },
     "execution_count": 30,
     "metadata": {},
     "output_type": "execute_result"
    }
   ],
   "source": [
    "players[players['point_of_tournament'].isna()].head(3)"
   ]
  },
  {
   "cell_type": "markdown",
   "metadata": {},
   "source": [
    "### ** Loại bỏ các dữ liệu ngoại lệ **"
   ]
  },
  {
   "cell_type": "code",
   "execution_count": 31,
   "metadata": {},
   "outputs": [
    {
     "data": {
      "image/png": "[encoded data removed]",
      "text/plain": [
       "<Figure size 1400x600 with 1 Axes>"
      ]
     },
     "metadata": {},
     "output_type": "display_data"
    },
    {
     "data": {
      "image/png": "[encoded data removed]",
      "text/plain": [
       "<Figure size 1400x600 with 1 Axes>"
      ]
     },
     "metadata": {},
     "output_type": "display_data"
    }
   ],
   "source": [
    "def remove_outliers(data):\n",
    "    df = data.copy()\n",
    "    for col in list(df.columns):\n",
    "        if df[col].dtypes == 'object' or df[col].dtypes == 'datetime64[ns]' or df[col].dtypes == 'bool':\n",
    "            continue\n",
    "        Q1 = df[col].quantile(0.05)\n",
    "        Q3 = df[col].quantile(0.95)\n",
    "        IQR = Q3 - Q1\n",
    "        lower_bound = Q1 - 1.5 * IQR\n",
    "        upper_bound = Q3 + 1.5 * IQR\n",
    "        df = df[(df[col] >= lower_bound) & (df[col] <= upper_bound)]\n",
    "    return df\n",
    "\n",
    "players = remove_outliers(players)\n",
    "players_numerics = players.select_dtypes(include=['float64', 'int64', 'int32'])\n",
    "\n",
    "show_boxplot(players_numerics.drop(['market_value'], axis=1),\"Players Without Outliers\")\n",
    "show_boxplot(players_numerics['market_value'].to_frame(),\"Players Without Outliers\")"
   ]
  },
  {
   "cell_type": "markdown",
   "metadata": {},
   "source": [
    "### ** Ghi lại file data clean **"
   ]
  },
  {
   "cell_type": "code",
   "execution_count": 32,
   "metadata": {},
   "outputs": [
    {
     "name": "stdout",
     "output_type": "stream",
     "text": [
      "(11651, 22)\n",
      "(11651, 16)\n"
     ]
    }
   ],
   "source": [
    "players = players.drop(['point_of_tournament'], axis=1)\n",
    "print(players.shape)\n",
    "print(players_numerics.shape)\n",
    "\n",
    "players.to_csv('players.csv', index=False)\n",
    "clubs.to_csv('clubs.csv', index=False)\n",
    "countries.to_csv('countries.csv', index=False)"
   ]
  }
 ],
 "metadata": {
  "kernelspec": {
   "display_name": "Python 3",
   "language": "python",
   "name": "python3"
  },
  "language_info": {
   "codemirror_mode": {
    "name": "ipython",
    "version": 3
   },
   "file_extension": ".py",
   "mimetype": "text/x-python",
   "name": "python",
   "nbconvert_exporter": "python",
   "pygments_lexer": "ipython3",
   "version": "3.12.1"
  }
 },
 "nbformat": 4,
 "nbformat_minor": 2
}
