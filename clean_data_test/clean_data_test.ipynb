{
 "cells": [
  {
   "cell_type": "code",
   "execution_count": 164,
   "metadata": {},
   "outputs": [],
   "source": [
    "import pandas as pd\n",
    "import numpy as np\n",
    "import re"
   ]
  },
  {
   "cell_type": "markdown",
   "metadata": {},
   "source": [
    "### ** Đọc dữ liệu **"
   ]
  },
  {
   "cell_type": "code",
   "execution_count": 165,
   "metadata": {},
   "outputs": [],
   "source": [
    "countries = pd.read_csv('../raw_data_test/country_rankings.csv')\n",
    "clubs = pd.read_csv('../raw_data_test/club_tournament.csv')\n",
    "players = pd.read_csv('../raw_data_test/players_data.csv')"
   ]
  },
  {
   "cell_type": "markdown",
   "metadata": {},
   "source": [
    "### ** Thêm dữ liệu hệ số giải đấu ('point_of_tournament') vào dữ liệu cầu thủ **"
   ]
  },
  {
   "cell_type": "code",
   "execution_count": 166,
   "metadata": {},
   "outputs": [],
   "source": [
    "players = players.merge(countries[['name', 'points']], how='left', left_on='country', right_on='name')\n",
    "players = players.rename(columns={'points': 'point_of_tournament', 'name_x': 'name'})\n",
    "players = players.drop('name_y', axis=1)"
   ]
  },
  {
   "cell_type": "markdown",
   "metadata": {},
   "source": [
    "### ** Xử lý dữ liệu **"
   ]
  },
  {
   "cell_type": "markdown",
   "metadata": {},
   "source": [
    "#### 1. Xử lý dữ liệu 'market_value'"
   ]
  },
  {
   "cell_type": "code",
   "execution_count": 167,
   "metadata": {},
   "outputs": [
    {
     "data": {
      "text/html": [
       "<div>\n",
       "<style scoped>\n",
       "    .dataframe tbody tr th:only-of-type {\n",
       "        vertical-align: middle;\n",
       "    }\n",
       "\n",
       "    .dataframe tbody tr th {\n",
       "        vertical-align: top;\n",
       "    }\n",
       "\n",
       "    .dataframe thead th {\n",
       "        text-align: right;\n",
       "    }\n",
       "</style>\n",
       "<table border=\"1\" class=\"dataframe\">\n",
       "  <thead>\n",
       "    <tr style=\"text-align: right;\">\n",
       "      <th></th>\n",
       "      <th>name</th>\n",
       "      <th>market_value</th>\n",
       "    </tr>\n",
       "  </thead>\n",
       "  <tbody>\n",
       "    <tr>\n",
       "      <th>0</th>\n",
       "      <td>Miguel Borja</td>\n",
       "      <td>4.1M €</td>\n",
       "    </tr>\n",
       "    <tr>\n",
       "      <th>1</th>\n",
       "      <td>Facundo Colidio</td>\n",
       "      <td>4.1M €</td>\n",
       "    </tr>\n",
       "    <tr>\n",
       "      <th>2</th>\n",
       "      <td>Pablo Solari</td>\n",
       "      <td>8.6M €</td>\n",
       "    </tr>\n",
       "  </tbody>\n",
       "</table>\n",
       "</div>"
      ],
      "text/plain": [
       "              name market_value\n",
       "0     Miguel Borja       4.1M €\n",
       "1  Facundo Colidio       4.1M €\n",
       "2     Pablo Solari       8.6M €"
      ]
     },
     "execution_count": 167,
     "metadata": {},
     "output_type": "execute_result"
    }
   ],
   "source": [
    "players[['name', 'market_value']].head(3)"
   ]
  },
  {
   "cell_type": "code",
   "execution_count": 168,
   "metadata": {},
   "outputs": [
    {
     "name": "stdout",
     "output_type": "stream",
     "text": [
      "{'K', 'M'}\n"
     ]
    }
   ],
   "source": [
    "all_values = players['market_value']\n",
    "unique_letters = set()\n",
    "\n",
    "for value in all_values:\n",
    "    letters = re.findall('[A-Za-z]', value)\n",
    "    unique_letters.update(letters)\n",
    "print(unique_letters)"
   ]
  },
  {
   "cell_type": "code",
   "execution_count": 169,
   "metadata": {},
   "outputs": [],
   "source": [
    "# delete players with 0 euro market value\n",
    "players = players[players['market_value'] != '0 €']\n",
    "\n",
    "players['market_value'] = players['market_value'].str.replace(' €', '')\n",
    "players['market_value'] = players['market_value'].apply(lambda x: int(float(x[:-1]) * 1 if x[-1] == 'K' else float(x[:-1]) * 1000))\n",
    "# players['market_value'] = players['market_value'].astype(int)"
   ]
  },
  {
   "cell_type": "code",
   "execution_count": 170,
   "metadata": {},
   "outputs": [
    {
     "data": {
      "text/html": [
       "<div>\n",
       "<style scoped>\n",
       "    .dataframe tbody tr th:only-of-type {\n",
       "        vertical-align: middle;\n",
       "    }\n",
       "\n",
       "    .dataframe tbody tr th {\n",
       "        vertical-align: top;\n",
       "    }\n",
       "\n",
       "    .dataframe thead th {\n",
       "        text-align: right;\n",
       "    }\n",
       "</style>\n",
       "<table border=\"1\" class=\"dataframe\">\n",
       "  <thead>\n",
       "    <tr style=\"text-align: right;\">\n",
       "      <th></th>\n",
       "      <th>name</th>\n",
       "      <th>market_value</th>\n",
       "    </tr>\n",
       "  </thead>\n",
       "  <tbody>\n",
       "    <tr>\n",
       "      <th>0</th>\n",
       "      <td>Miguel Borja</td>\n",
       "      <td>4100</td>\n",
       "    </tr>\n",
       "    <tr>\n",
       "      <th>1</th>\n",
       "      <td>Facundo Colidio</td>\n",
       "      <td>4100</td>\n",
       "    </tr>\n",
       "    <tr>\n",
       "      <th>2</th>\n",
       "      <td>Pablo Solari</td>\n",
       "      <td>8600</td>\n",
       "    </tr>\n",
       "  </tbody>\n",
       "</table>\n",
       "</div>"
      ],
      "text/plain": [
       "              name  market_value\n",
       "0     Miguel Borja          4100\n",
       "1  Facundo Colidio          4100\n",
       "2     Pablo Solari          8600"
      ]
     },
     "execution_count": 170,
     "metadata": {},
     "output_type": "execute_result"
    }
   ],
   "source": [
    "players[['name', 'market_value']].head(3)"
   ]
  },
  {
   "cell_type": "markdown",
   "metadata": {},
   "source": [
    "#### 2. Xử lý dữ liệu 'age'"
   ]
  },
  {
   "cell_type": "code",
   "execution_count": 171,
   "metadata": {},
   "outputs": [
    {
     "data": {
      "text/html": [
       "<div>\n",
       "<style scoped>\n",
       "    .dataframe tbody tr th:only-of-type {\n",
       "        vertical-align: middle;\n",
       "    }\n",
       "\n",
       "    .dataframe tbody tr th {\n",
       "        vertical-align: top;\n",
       "    }\n",
       "\n",
       "    .dataframe thead th {\n",
       "        text-align: right;\n",
       "    }\n",
       "</style>\n",
       "<table border=\"1\" class=\"dataframe\">\n",
       "  <thead>\n",
       "    <tr style=\"text-align: right;\">\n",
       "      <th></th>\n",
       "      <th>name</th>\n",
       "      <th>age</th>\n",
       "    </tr>\n",
       "  </thead>\n",
       "  <tbody>\n",
       "    <tr>\n",
       "      <th>0</th>\n",
       "      <td>Miguel Borja</td>\n",
       "      <td>31 yrs</td>\n",
       "    </tr>\n",
       "    <tr>\n",
       "      <th>1</th>\n",
       "      <td>Facundo Colidio</td>\n",
       "      <td>24 yrs</td>\n",
       "    </tr>\n",
       "    <tr>\n",
       "      <th>2</th>\n",
       "      <td>Pablo Solari</td>\n",
       "      <td>23 yrs</td>\n",
       "    </tr>\n",
       "  </tbody>\n",
       "</table>\n",
       "</div>"
      ],
      "text/plain": [
       "              name     age\n",
       "0     Miguel Borja  31 yrs\n",
       "1  Facundo Colidio  24 yrs\n",
       "2     Pablo Solari  23 yrs"
      ]
     },
     "execution_count": 171,
     "metadata": {},
     "output_type": "execute_result"
    }
   ],
   "source": [
    "players[['name', 'age']].head(3)"
   ]
  },
  {
   "cell_type": "code",
   "execution_count": 172,
   "metadata": {},
   "outputs": [],
   "source": [
    "# Sửa cột dữ liệu 'age'\n",
    "players['age'] = players['age'].apply(lambda x: x.split(\" \")[0])"
   ]
  },
  {
   "cell_type": "code",
   "execution_count": 173,
   "metadata": {},
   "outputs": [
    {
     "data": {
      "text/html": [
       "<div>\n",
       "<style scoped>\n",
       "    .dataframe tbody tr th:only-of-type {\n",
       "        vertical-align: middle;\n",
       "    }\n",
       "\n",
       "    .dataframe tbody tr th {\n",
       "        vertical-align: top;\n",
       "    }\n",
       "\n",
       "    .dataframe thead th {\n",
       "        text-align: right;\n",
       "    }\n",
       "</style>\n",
       "<table border=\"1\" class=\"dataframe\">\n",
       "  <thead>\n",
       "    <tr style=\"text-align: right;\">\n",
       "      <th></th>\n",
       "      <th>name</th>\n",
       "      <th>age</th>\n",
       "    </tr>\n",
       "  </thead>\n",
       "  <tbody>\n",
       "    <tr>\n",
       "      <th>0</th>\n",
       "      <td>Miguel Borja</td>\n",
       "      <td>31</td>\n",
       "    </tr>\n",
       "    <tr>\n",
       "      <th>1</th>\n",
       "      <td>Facundo Colidio</td>\n",
       "      <td>24</td>\n",
       "    </tr>\n",
       "    <tr>\n",
       "      <th>2</th>\n",
       "      <td>Pablo Solari</td>\n",
       "      <td>23</td>\n",
       "    </tr>\n",
       "  </tbody>\n",
       "</table>\n",
       "</div>"
      ],
      "text/plain": [
       "              name age\n",
       "0     Miguel Borja  31\n",
       "1  Facundo Colidio  24\n",
       "2     Pablo Solari  23"
      ]
     },
     "execution_count": 173,
     "metadata": {},
     "output_type": "execute_result"
    }
   ],
   "source": [
    "players[['name', 'age']].head(3)"
   ]
  },
  {
   "cell_type": "markdown",
   "metadata": {},
   "source": [
    "#### 3. Xử lý dữ liệu 'height'"
   ]
  },
  {
   "cell_type": "code",
   "execution_count": 174,
   "metadata": {},
   "outputs": [
    {
     "data": {
      "text/html": [
       "<div>\n",
       "<style scoped>\n",
       "    .dataframe tbody tr th:only-of-type {\n",
       "        vertical-align: middle;\n",
       "    }\n",
       "\n",
       "    .dataframe tbody tr th {\n",
       "        vertical-align: top;\n",
       "    }\n",
       "\n",
       "    .dataframe thead th {\n",
       "        text-align: right;\n",
       "    }\n",
       "</style>\n",
       "<table border=\"1\" class=\"dataframe\">\n",
       "  <thead>\n",
       "    <tr style=\"text-align: right;\">\n",
       "      <th></th>\n",
       "      <th>name</th>\n",
       "      <th>height</th>\n",
       "    </tr>\n",
       "  </thead>\n",
       "  <tbody>\n",
       "    <tr>\n",
       "      <th>0</th>\n",
       "      <td>Miguel Borja</td>\n",
       "      <td>183 cm</td>\n",
       "    </tr>\n",
       "    <tr>\n",
       "      <th>1</th>\n",
       "      <td>Facundo Colidio</td>\n",
       "      <td>179 cm</td>\n",
       "    </tr>\n",
       "    <tr>\n",
       "      <th>2</th>\n",
       "      <td>Pablo Solari</td>\n",
       "      <td>180 cm</td>\n",
       "    </tr>\n",
       "  </tbody>\n",
       "</table>\n",
       "</div>"
      ],
      "text/plain": [
       "              name  height\n",
       "0     Miguel Borja  183 cm\n",
       "1  Facundo Colidio  179 cm\n",
       "2     Pablo Solari  180 cm"
      ]
     },
     "execution_count": 174,
     "metadata": {},
     "output_type": "execute_result"
    }
   ],
   "source": [
    "players[['name', 'height']].head(3)"
   ]
  },
  {
   "cell_type": "code",
   "execution_count": 175,
   "metadata": {},
   "outputs": [],
   "source": [
    "players['height'] = players['height'].apply(lambda x: x.split(\" \")[0])"
   ]
  },
  {
   "cell_type": "code",
   "execution_count": 176,
   "metadata": {},
   "outputs": [
    {
     "data": {
      "text/html": [
       "<div>\n",
       "<style scoped>\n",
       "    .dataframe tbody tr th:only-of-type {\n",
       "        vertical-align: middle;\n",
       "    }\n",
       "\n",
       "    .dataframe tbody tr th {\n",
       "        vertical-align: top;\n",
       "    }\n",
       "\n",
       "    .dataframe thead th {\n",
       "        text-align: right;\n",
       "    }\n",
       "</style>\n",
       "<table border=\"1\" class=\"dataframe\">\n",
       "  <thead>\n",
       "    <tr style=\"text-align: right;\">\n",
       "      <th></th>\n",
       "      <th>name</th>\n",
       "      <th>height</th>\n",
       "    </tr>\n",
       "  </thead>\n",
       "  <tbody>\n",
       "    <tr>\n",
       "      <th>0</th>\n",
       "      <td>Miguel Borja</td>\n",
       "      <td>183</td>\n",
       "    </tr>\n",
       "    <tr>\n",
       "      <th>1</th>\n",
       "      <td>Facundo Colidio</td>\n",
       "      <td>179</td>\n",
       "    </tr>\n",
       "    <tr>\n",
       "      <th>2</th>\n",
       "      <td>Pablo Solari</td>\n",
       "      <td>180</td>\n",
       "    </tr>\n",
       "  </tbody>\n",
       "</table>\n",
       "</div>"
      ],
      "text/plain": [
       "              name height\n",
       "0     Miguel Borja    183\n",
       "1  Facundo Colidio    179\n",
       "2     Pablo Solari    180"
      ]
     },
     "execution_count": 176,
     "metadata": {},
     "output_type": "execute_result"
    }
   ],
   "source": [
    "players[['name', 'height']].head(3)"
   ]
  },
  {
   "cell_type": "markdown",
   "metadata": {},
   "source": [
    "### ** Xóa bỏ cột dư thừa **"
   ]
  },
  {
   "cell_type": "markdown",
   "metadata": {},
   "source": [
    "#### 1. Xóa bỏ cột dư thừa của bảng 'countries'"
   ]
  },
  {
   "cell_type": "code",
   "execution_count": 177,
   "metadata": {},
   "outputs": [
    {
     "data": {
      "text/html": [
       "<div>\n",
       "<style scoped>\n",
       "    .dataframe tbody tr th:only-of-type {\n",
       "        vertical-align: middle;\n",
       "    }\n",
       "\n",
       "    .dataframe tbody tr th {\n",
       "        vertical-align: top;\n",
       "    }\n",
       "\n",
       "    .dataframe thead th {\n",
       "        text-align: right;\n",
       "    }\n",
       "</style>\n",
       "<table border=\"1\" class=\"dataframe\">\n",
       "  <thead>\n",
       "    <tr style=\"text-align: right;\">\n",
       "      <th></th>\n",
       "      <th>rank</th>\n",
       "      <th>name</th>\n",
       "      <th>name_code</th>\n",
       "      <th>points</th>\n",
       "      <th>slug</th>\n",
       "      <th>category_id</th>\n",
       "      <th>tournament_name</th>\n",
       "      <th>tournament_slug</th>\n",
       "      <th>tournament_id</th>\n",
       "      <th>tournament_season_id</th>\n",
       "    </tr>\n",
       "  </thead>\n",
       "  <tbody>\n",
       "    <tr>\n",
       "      <th>0</th>\n",
       "      <td>1</td>\n",
       "      <td>Argentina</td>\n",
       "      <td>ARG</td>\n",
       "      <td>1858.00</td>\n",
       "      <td>argentina</td>\n",
       "      <td>48.0</td>\n",
       "      <td>Copa de la Liga Profesional</td>\n",
       "      <td>copa-de-la-liga-profesional</td>\n",
       "      <td>13475.0</td>\n",
       "      <td>57487.0</td>\n",
       "    </tr>\n",
       "    <tr>\n",
       "      <th>1</th>\n",
       "      <td>2</td>\n",
       "      <td>France</td>\n",
       "      <td>FRA</td>\n",
       "      <td>1840.59</td>\n",
       "      <td>france</td>\n",
       "      <td>7.0</td>\n",
       "      <td>Ligue 2</td>\n",
       "      <td>ligue-2</td>\n",
       "      <td>182.0</td>\n",
       "      <td>52572.0</td>\n",
       "    </tr>\n",
       "  </tbody>\n",
       "</table>\n",
       "</div>"
      ],
      "text/plain": [
       "   rank       name name_code   points       slug  category_id  \\\n",
       "0     1  Argentina       ARG  1858.00  argentina         48.0   \n",
       "1     2     France       FRA  1840.59     france          7.0   \n",
       "\n",
       "               tournament_name              tournament_slug  tournament_id  \\\n",
       "0  Copa de la Liga Profesional  copa-de-la-liga-profesional        13475.0   \n",
       "1                      Ligue 2                      ligue-2          182.0   \n",
       "\n",
       "   tournament_season_id  \n",
       "0               57487.0  \n",
       "1               52572.0  "
      ]
     },
     "execution_count": 177,
     "metadata": {},
     "output_type": "execute_result"
    }
   ],
   "source": [
    "countries.head(2)"
   ]
  },
  {
   "cell_type": "code",
   "execution_count": 178,
   "metadata": {},
   "outputs": [],
   "source": [
    "countries = countries.drop(['slug', 'category_id', 'tournament_slug', 'tournament_id', 'tournament_season_id'], axis=1)"
   ]
  },
  {
   "cell_type": "code",
   "execution_count": 179,
   "metadata": {},
   "outputs": [
    {
     "data": {
      "text/html": [
       "<div>\n",
       "<style scoped>\n",
       "    .dataframe tbody tr th:only-of-type {\n",
       "        vertical-align: middle;\n",
       "    }\n",
       "\n",
       "    .dataframe tbody tr th {\n",
       "        vertical-align: top;\n",
       "    }\n",
       "\n",
       "    .dataframe thead th {\n",
       "        text-align: right;\n",
       "    }\n",
       "</style>\n",
       "<table border=\"1\" class=\"dataframe\">\n",
       "  <thead>\n",
       "    <tr style=\"text-align: right;\">\n",
       "      <th></th>\n",
       "      <th>rank</th>\n",
       "      <th>name</th>\n",
       "      <th>name_code</th>\n",
       "      <th>points</th>\n",
       "      <th>tournament_name</th>\n",
       "    </tr>\n",
       "  </thead>\n",
       "  <tbody>\n",
       "    <tr>\n",
       "      <th>0</th>\n",
       "      <td>1</td>\n",
       "      <td>Argentina</td>\n",
       "      <td>ARG</td>\n",
       "      <td>1858.00</td>\n",
       "      <td>Copa de la Liga Profesional</td>\n",
       "    </tr>\n",
       "    <tr>\n",
       "      <th>1</th>\n",
       "      <td>2</td>\n",
       "      <td>France</td>\n",
       "      <td>FRA</td>\n",
       "      <td>1840.59</td>\n",
       "      <td>Ligue 2</td>\n",
       "    </tr>\n",
       "  </tbody>\n",
       "</table>\n",
       "</div>"
      ],
      "text/plain": [
       "   rank       name name_code   points              tournament_name\n",
       "0     1  Argentina       ARG  1858.00  Copa de la Liga Profesional\n",
       "1     2     France       FRA  1840.59                      Ligue 2"
      ]
     },
     "execution_count": 179,
     "metadata": {},
     "output_type": "execute_result"
    }
   ],
   "source": [
    "countries.head(2)"
   ]
  },
  {
   "cell_type": "markdown",
   "metadata": {},
   "source": [
    "#### 2. Xóa bỏ các cột dư thừa của bảng 'clubs'"
   ]
  },
  {
   "cell_type": "code",
   "execution_count": 180,
   "metadata": {},
   "outputs": [
    {
     "data": {
      "text/html": [
       "<div>\n",
       "<style scoped>\n",
       "    .dataframe tbody tr th:only-of-type {\n",
       "        vertical-align: middle;\n",
       "    }\n",
       "\n",
       "    .dataframe tbody tr th {\n",
       "        vertical-align: top;\n",
       "    }\n",
       "\n",
       "    .dataframe thead th {\n",
       "        text-align: right;\n",
       "    }\n",
       "</style>\n",
       "<table border=\"1\" class=\"dataframe\">\n",
       "  <thead>\n",
       "    <tr style=\"text-align: right;\">\n",
       "      <th></th>\n",
       "      <th>country</th>\n",
       "      <th>tournament</th>\n",
       "      <th>name</th>\n",
       "      <th>short_name</th>\n",
       "      <th>name_code</th>\n",
       "      <th>position</th>\n",
       "      <th>slug</th>\n",
       "      <th>id</th>\n",
       "    </tr>\n",
       "  </thead>\n",
       "  <tbody>\n",
       "    <tr>\n",
       "      <th>0</th>\n",
       "      <td>Argentina</td>\n",
       "      <td>Copa de la Liga Profesional</td>\n",
       "      <td>River Plate</td>\n",
       "      <td>River</td>\n",
       "      <td>RIV</td>\n",
       "      <td>1</td>\n",
       "      <td>river-plate</td>\n",
       "      <td>3211</td>\n",
       "    </tr>\n",
       "    <tr>\n",
       "      <th>1</th>\n",
       "      <td>Argentina</td>\n",
       "      <td>Copa de la Liga Profesional</td>\n",
       "      <td>Argentinos Juniors</td>\n",
       "      <td>Argentinos Jrs.</td>\n",
       "      <td>ARG</td>\n",
       "      <td>2</td>\n",
       "      <td>argentinos-juniors</td>\n",
       "      <td>3216</td>\n",
       "    </tr>\n",
       "  </tbody>\n",
       "</table>\n",
       "</div>"
      ],
      "text/plain": [
       "     country                   tournament                name  \\\n",
       "0  Argentina  Copa de la Liga Profesional         River Plate   \n",
       "1  Argentina  Copa de la Liga Profesional  Argentinos Juniors   \n",
       "\n",
       "        short_name name_code  position                slug    id  \n",
       "0            River       RIV         1         river-plate  3211  \n",
       "1  Argentinos Jrs.       ARG         2  argentinos-juniors  3216  "
      ]
     },
     "execution_count": 180,
     "metadata": {},
     "output_type": "execute_result"
    }
   ],
   "source": [
    "clubs.head(2)"
   ]
  },
  {
   "cell_type": "code",
   "execution_count": 181,
   "metadata": {},
   "outputs": [],
   "source": [
    "clubs = clubs.drop(['slug', 'id'], axis=1)\n",
    "clubs = clubs[['name', 'short_name', 'name_code', 'position', 'tournament', 'country']]"
   ]
  },
  {
   "cell_type": "code",
   "execution_count": 182,
   "metadata": {},
   "outputs": [
    {
     "data": {
      "text/html": [
       "<div>\n",
       "<style scoped>\n",
       "    .dataframe tbody tr th:only-of-type {\n",
       "        vertical-align: middle;\n",
       "    }\n",
       "\n",
       "    .dataframe tbody tr th {\n",
       "        vertical-align: top;\n",
       "    }\n",
       "\n",
       "    .dataframe thead th {\n",
       "        text-align: right;\n",
       "    }\n",
       "</style>\n",
       "<table border=\"1\" class=\"dataframe\">\n",
       "  <thead>\n",
       "    <tr style=\"text-align: right;\">\n",
       "      <th></th>\n",
       "      <th>name</th>\n",
       "      <th>short_name</th>\n",
       "      <th>name_code</th>\n",
       "      <th>position</th>\n",
       "      <th>tournament</th>\n",
       "      <th>country</th>\n",
       "    </tr>\n",
       "  </thead>\n",
       "  <tbody>\n",
       "    <tr>\n",
       "      <th>0</th>\n",
       "      <td>River Plate</td>\n",
       "      <td>River</td>\n",
       "      <td>RIV</td>\n",
       "      <td>1</td>\n",
       "      <td>Copa de la Liga Profesional</td>\n",
       "      <td>Argentina</td>\n",
       "    </tr>\n",
       "    <tr>\n",
       "      <th>1</th>\n",
       "      <td>Argentinos Juniors</td>\n",
       "      <td>Argentinos Jrs.</td>\n",
       "      <td>ARG</td>\n",
       "      <td>2</td>\n",
       "      <td>Copa de la Liga Profesional</td>\n",
       "      <td>Argentina</td>\n",
       "    </tr>\n",
       "  </tbody>\n",
       "</table>\n",
       "</div>"
      ],
      "text/plain": [
       "                 name       short_name name_code  position  \\\n",
       "0         River Plate            River       RIV         1   \n",
       "1  Argentinos Juniors  Argentinos Jrs.       ARG         2   \n",
       "\n",
       "                    tournament    country  \n",
       "0  Copa de la Liga Profesional  Argentina  \n",
       "1  Copa de la Liga Profesional  Argentina  "
      ]
     },
     "execution_count": 182,
     "metadata": {},
     "output_type": "execute_result"
    }
   ],
   "source": [
    "clubs.head(2)"
   ]
  },
  {
   "cell_type": "markdown",
   "metadata": {},
   "source": [
    "#### 3. Xóa bỏ cột dư thừa của bảng 'players'"
   ]
  },
  {
   "cell_type": "code",
   "execution_count": 183,
   "metadata": {},
   "outputs": [
    {
     "data": {
      "text/plain": [
       "Index(['name', 'market_value', 'club', 'country', 'league', 'nationality',\n",
       "       'birth_date', 'age', 'height', 'preferred_foot', 'position',\n",
       "       'shirt_number', 'attacking', 'technical', 'tactical', 'defending',\n",
       "       'creativity', 'saves', 'anticipation', 'ball_distribution', 'aerial',\n",
       "       'avg_score_last_12_months', 'appearances_last_12_months',\n",
       "       'point_of_tournament'],\n",
       "      dtype='object')"
      ]
     },
     "execution_count": 183,
     "metadata": {},
     "output_type": "execute_result"
    }
   ],
   "source": [
    "players.columns"
   ]
  },
  {
   "cell_type": "code",
   "execution_count": 184,
   "metadata": {},
   "outputs": [],
   "source": [
    "players = players.drop(['birth_date'], axis=1)"
   ]
  },
  {
   "cell_type": "code",
   "execution_count": 185,
   "metadata": {},
   "outputs": [
    {
     "data": {
      "text/plain": [
       "Index(['name', 'market_value', 'club', 'country', 'league', 'nationality',\n",
       "       'age', 'height', 'preferred_foot', 'position', 'shirt_number',\n",
       "       'attacking', 'technical', 'tactical', 'defending', 'creativity',\n",
       "       'saves', 'anticipation', 'ball_distribution', 'aerial',\n",
       "       'avg_score_last_12_months', 'appearances_last_12_months',\n",
       "       'point_of_tournament'],\n",
       "      dtype='object')"
      ]
     },
     "execution_count": 185,
     "metadata": {},
     "output_type": "execute_result"
    }
   ],
   "source": [
    "players.columns"
   ]
  },
  {
   "cell_type": "markdown",
   "metadata": {},
   "source": [
    "### ** Chuyển đổi kiểu dữ liệu  **"
   ]
  },
  {
   "cell_type": "code",
   "execution_count": 186,
   "metadata": {},
   "outputs": [
    {
     "name": "stdout",
     "output_type": "stream",
     "text": [
      "<class 'pandas.core.frame.DataFrame'>\n",
      "Index: 4800 entries, 0 to 4802\n",
      "Data columns (total 23 columns):\n",
      " #   Column                      Non-Null Count  Dtype  \n",
      "---  ------                      --------------  -----  \n",
      " 0   name                        4800 non-null   object \n",
      " 1   market_value                4800 non-null   int64  \n",
      " 2   club                        4800 non-null   object \n",
      " 3   country                     4800 non-null   object \n",
      " 4   league                      4800 non-null   object \n",
      " 5   nationality                 4800 non-null   object \n",
      " 6   age                         4800 non-null   object \n",
      " 7   height                      4800 non-null   object \n",
      " 8   preferred_foot              4800 non-null   object \n",
      " 9   position                    4800 non-null   object \n",
      " 10  shirt_number                4800 non-null   int64  \n",
      " 11  attacking                   4800 non-null   int64  \n",
      " 12  technical                   4800 non-null   int64  \n",
      " 13  tactical                    4800 non-null   int64  \n",
      " 14  defending                   4800 non-null   int64  \n",
      " 15  creativity                  4800 non-null   int64  \n",
      " 16  saves                       4800 non-null   int64  \n",
      " 17  anticipation                4800 non-null   int64  \n",
      " 18  ball_distribution           4800 non-null   int64  \n",
      " 19  aerial                      4800 non-null   int64  \n",
      " 20  avg_score_last_12_months    4800 non-null   float64\n",
      " 21  appearances_last_12_months  4800 non-null   int64  \n",
      " 22  point_of_tournament         4462 non-null   float64\n",
      "dtypes: float64(2), int64(12), object(9)\n",
      "memory usage: 900.0+ KB\n"
     ]
    }
   ],
   "source": [
    "players.info()"
   ]
  },
  {
   "cell_type": "code",
   "execution_count": 187,
   "metadata": {},
   "outputs": [],
   "source": [
    "players[['market_value', 'age', 'height']] = players[['market_value', 'age', 'height']].apply(pd.to_numeric, errors='coerce')\n",
    "players['market_value'] = players['market_value'].astype(int)"
   ]
  },
  {
   "cell_type": "code",
   "execution_count": 188,
   "metadata": {},
   "outputs": [
    {
     "name": "stdout",
     "output_type": "stream",
     "text": [
      "<class 'pandas.core.frame.DataFrame'>\n",
      "Index: 4800 entries, 0 to 4802\n",
      "Data columns (total 23 columns):\n",
      " #   Column                      Non-Null Count  Dtype  \n",
      "---  ------                      --------------  -----  \n",
      " 0   name                        4800 non-null   object \n",
      " 1   market_value                4800 non-null   int32  \n",
      " 2   club                        4800 non-null   object \n",
      " 3   country                     4800 non-null   object \n",
      " 4   league                      4800 non-null   object \n",
      " 5   nationality                 4800 non-null   object \n",
      " 6   age                         4800 non-null   int64  \n",
      " 7   height                      4800 non-null   int64  \n",
      " 8   preferred_foot              4800 non-null   object \n",
      " 9   position                    4800 non-null   object \n",
      " 10  shirt_number                4800 non-null   int64  \n",
      " 11  attacking                   4800 non-null   int64  \n",
      " 12  technical                   4800 non-null   int64  \n",
      " 13  tactical                    4800 non-null   int64  \n",
      " 14  defending                   4800 non-null   int64  \n",
      " 15  creativity                  4800 non-null   int64  \n",
      " 16  saves                       4800 non-null   int64  \n",
      " 17  anticipation                4800 non-null   int64  \n",
      " 18  ball_distribution           4800 non-null   int64  \n",
      " 19  aerial                      4800 non-null   int64  \n",
      " 20  avg_score_last_12_months    4800 non-null   float64\n",
      " 21  appearances_last_12_months  4800 non-null   int64  \n",
      " 22  point_of_tournament         4462 non-null   float64\n",
      "dtypes: float64(2), int32(1), int64(13), object(7)\n",
      "memory usage: 881.2+ KB\n"
     ]
    }
   ],
   "source": [
    "players.info()"
   ]
  },
  {
   "cell_type": "markdown",
   "metadata": {},
   "source": [
    "### ** Trực quan dữ liệu sau khi bước đầu tiền xử lý **"
   ]
  },
  {
   "cell_type": "code",
   "execution_count": 189,
   "metadata": {},
   "outputs": [
    {
     "data": {
      "image/png": "[encoded data removed]",
      "text/plain": [
       "<Figure size 1400x600 with 1 Axes>"
      ]
     },
     "metadata": {},
     "output_type": "display_data"
    },
    {
     "data": {
      "image/png": "[encoded data removed]",
      "text/plain": [
       "<Figure size 1400x600 with 1 Axes>"
      ]
     },
     "metadata": {},
     "output_type": "display_data"
    }
   ],
   "source": [
    "import matplotlib.pyplot as plt\n",
    "import seaborn as sns\n",
    "\n",
    "players_numerics = players.select_dtypes(include=['float64', 'int64', 'int32'])\n",
    "\n",
    "def show_boxplot(df, title):\n",
    "    plt.rcParams['figure.figsize'] = [14,6]\n",
    "    sns.boxplot(data = df, orient=\"v\")\n",
    "    plt.title(title, fontsize = 16)\n",
    "    plt.ylabel(\"Range\", fontweight = 'bold')\n",
    "    plt.xlabel(\"Attributes\", fontweight = 'bold')\n",
    "    plt.xticks(rotation=90)\n",
    "    plt.show()\n",
    "\n",
    "show_boxplot(players_numerics.drop(['market_value'], axis=1),\"Players\")\n",
    "show_boxplot(players_numerics['market_value'].to_frame(),\"Players\")"
   ]
  },
  {
   "cell_type": "markdown",
   "metadata": {},
   "source": [
    "### ** Missing data **"
   ]
  },
  {
   "cell_type": "code",
   "execution_count": 190,
   "metadata": {},
   "outputs": [
    {
     "data": {
      "text/plain": [
       "name                            0\n",
       "market_value                    0\n",
       "club                            0\n",
       "country                         0\n",
       "league                          0\n",
       "nationality                     0\n",
       "age                             0\n",
       "height                          0\n",
       "preferred_foot                  0\n",
       "position                        0\n",
       "shirt_number                    0\n",
       "attacking                       0\n",
       "technical                       0\n",
       "tactical                        0\n",
       "defending                       0\n",
       "creativity                      0\n",
       "saves                           0\n",
       "anticipation                    0\n",
       "ball_distribution               0\n",
       "aerial                          0\n",
       "avg_score_last_12_months        0\n",
       "appearances_last_12_months      0\n",
       "point_of_tournament           338\n",
       "dtype: int64"
      ]
     },
     "execution_count": 190,
     "metadata": {},
     "output_type": "execute_result"
    }
   ],
   "source": [
    "players.isna().sum()"
   ]
  },
  {
   "cell_type": "code",
   "execution_count": 191,
   "metadata": {},
   "outputs": [
    {
     "data": {
      "text/plain": [
       "array(['Europe', 'Czechia', 'Türkiye'], dtype=object)"
      ]
     },
     "execution_count": 191,
     "metadata": {},
     "output_type": "execute_result"
    }
   ],
   "source": [
    "players[players['point_of_tournament'].isna()]['country'].unique()"
   ]
  },
  {
   "cell_type": "code",
   "execution_count": 192,
   "metadata": {},
   "outputs": [
    {
     "data": {
      "text/html": [
       "<div>\n",
       "<style scoped>\n",
       "    .dataframe tbody tr th:only-of-type {\n",
       "        vertical-align: middle;\n",
       "    }\n",
       "\n",
       "    .dataframe tbody tr th {\n",
       "        vertical-align: top;\n",
       "    }\n",
       "\n",
       "    .dataframe thead th {\n",
       "        text-align: right;\n",
       "    }\n",
       "</style>\n",
       "<table border=\"1\" class=\"dataframe\">\n",
       "  <thead>\n",
       "    <tr style=\"text-align: right;\">\n",
       "      <th></th>\n",
       "      <th>name</th>\n",
       "      <th>market_value</th>\n",
       "      <th>club</th>\n",
       "      <th>country</th>\n",
       "      <th>league</th>\n",
       "      <th>nationality</th>\n",
       "      <th>age</th>\n",
       "      <th>height</th>\n",
       "      <th>preferred_foot</th>\n",
       "      <th>position</th>\n",
       "      <th>...</th>\n",
       "      <th>tactical</th>\n",
       "      <th>defending</th>\n",
       "      <th>creativity</th>\n",
       "      <th>saves</th>\n",
       "      <th>anticipation</th>\n",
       "      <th>ball_distribution</th>\n",
       "      <th>aerial</th>\n",
       "      <th>avg_score_last_12_months</th>\n",
       "      <th>appearances_last_12_months</th>\n",
       "      <th>point_of_tournament</th>\n",
       "    </tr>\n",
       "  </thead>\n",
       "  <tbody>\n",
       "    <tr>\n",
       "      <th>3904</th>\n",
       "      <td>Aleksej Vukičević</td>\n",
       "      <td>105</td>\n",
       "      <td>FK Crvena zvezda U19</td>\n",
       "      <td>Europe</td>\n",
       "      <td>UEFA Youth League</td>\n",
       "      <td>SRB</td>\n",
       "      <td>18</td>\n",
       "      <td>192</td>\n",
       "      <td>Left</td>\n",
       "      <td>D</td>\n",
       "      <td>...</td>\n",
       "      <td>25</td>\n",
       "      <td>13</td>\n",
       "      <td>62</td>\n",
       "      <td>0</td>\n",
       "      <td>0</td>\n",
       "      <td>0</td>\n",
       "      <td>0</td>\n",
       "      <td>7.11</td>\n",
       "      <td>20</td>\n",
       "      <td>NaN</td>\n",
       "    </tr>\n",
       "    <tr>\n",
       "      <th>3972</th>\n",
       "      <td>Muris Mešanovič</td>\n",
       "      <td>160</td>\n",
       "      <td>Dukla Praha</td>\n",
       "      <td>Czechia</td>\n",
       "      <td>FNL</td>\n",
       "      <td>BIH</td>\n",
       "      <td>33</td>\n",
       "      <td>177</td>\n",
       "      <td>Both</td>\n",
       "      <td>F</td>\n",
       "      <td>...</td>\n",
       "      <td>6</td>\n",
       "      <td>80</td>\n",
       "      <td>75</td>\n",
       "      <td>0</td>\n",
       "      <td>0</td>\n",
       "      <td>0</td>\n",
       "      <td>0</td>\n",
       "      <td>6.75</td>\n",
       "      <td>25</td>\n",
       "      <td>NaN</td>\n",
       "    </tr>\n",
       "    <tr>\n",
       "      <th>3973</th>\n",
       "      <td>Pavel Moulis</td>\n",
       "      <td>195</td>\n",
       "      <td>Dukla Praha</td>\n",
       "      <td>Czechia</td>\n",
       "      <td>FNL</td>\n",
       "      <td>CZE</td>\n",
       "      <td>33</td>\n",
       "      <td>185</td>\n",
       "      <td>Right</td>\n",
       "      <td>M</td>\n",
       "      <td>...</td>\n",
       "      <td>77</td>\n",
       "      <td>31</td>\n",
       "      <td>82</td>\n",
       "      <td>0</td>\n",
       "      <td>0</td>\n",
       "      <td>0</td>\n",
       "      <td>0</td>\n",
       "      <td>7.19</td>\n",
       "      <td>29</td>\n",
       "      <td>NaN</td>\n",
       "    </tr>\n",
       "  </tbody>\n",
       "</table>\n",
       "<p>3 rows × 23 columns</p>\n",
       "</div>"
      ],
      "text/plain": [
       "                   name  market_value                  club  country  \\\n",
       "3904  Aleksej Vukičević           105  FK Crvena zvezda U19   Europe   \n",
       "3972    Muris Mešanovič           160           Dukla Praha  Czechia   \n",
       "3973       Pavel Moulis           195           Dukla Praha  Czechia   \n",
       "\n",
       "                 league nationality  age  height preferred_foot position  ...  \\\n",
       "3904  UEFA Youth League         SRB   18     192           Left        D  ...   \n",
       "3972                FNL         BIH   33     177           Both        F  ...   \n",
       "3973                FNL         CZE   33     185          Right        M  ...   \n",
       "\n",
       "      tactical  defending  creativity  saves  anticipation  ball_distribution  \\\n",
       "3904        25         13          62      0             0                  0   \n",
       "3972         6         80          75      0             0                  0   \n",
       "3973        77         31          82      0             0                  0   \n",
       "\n",
       "      aerial  avg_score_last_12_months  appearances_last_12_months  \\\n",
       "3904       0                      7.11                          20   \n",
       "3972       0                      6.75                          25   \n",
       "3973       0                      7.19                          29   \n",
       "\n",
       "      point_of_tournament  \n",
       "3904                  NaN  \n",
       "3972                  NaN  \n",
       "3973                  NaN  \n",
       "\n",
       "[3 rows x 23 columns]"
      ]
     },
     "execution_count": 192,
     "metadata": {},
     "output_type": "execute_result"
    }
   ],
   "source": [
    "players[players['point_of_tournament'].isna()].head(3)"
   ]
  },
  {
   "cell_type": "code",
   "execution_count": 193,
   "metadata": {},
   "outputs": [],
   "source": [
    "players = players[~players['point_of_tournament'].isna()]"
   ]
  },
  {
   "cell_type": "code",
   "execution_count": 194,
   "metadata": {},
   "outputs": [
    {
     "data": {
      "text/html": [
       "<div>\n",
       "<style scoped>\n",
       "    .dataframe tbody tr th:only-of-type {\n",
       "        vertical-align: middle;\n",
       "    }\n",
       "\n",
       "    .dataframe tbody tr th {\n",
       "        vertical-align: top;\n",
       "    }\n",
       "\n",
       "    .dataframe thead th {\n",
       "        text-align: right;\n",
       "    }\n",
       "</style>\n",
       "<table border=\"1\" class=\"dataframe\">\n",
       "  <thead>\n",
       "    <tr style=\"text-align: right;\">\n",
       "      <th></th>\n",
       "      <th>name</th>\n",
       "      <th>market_value</th>\n",
       "      <th>club</th>\n",
       "      <th>country</th>\n",
       "      <th>league</th>\n",
       "      <th>nationality</th>\n",
       "      <th>age</th>\n",
       "      <th>height</th>\n",
       "      <th>preferred_foot</th>\n",
       "      <th>position</th>\n",
       "      <th>...</th>\n",
       "      <th>tactical</th>\n",
       "      <th>defending</th>\n",
       "      <th>creativity</th>\n",
       "      <th>saves</th>\n",
       "      <th>anticipation</th>\n",
       "      <th>ball_distribution</th>\n",
       "      <th>aerial</th>\n",
       "      <th>avg_score_last_12_months</th>\n",
       "      <th>appearances_last_12_months</th>\n",
       "      <th>point_of_tournament</th>\n",
       "    </tr>\n",
       "  </thead>\n",
       "  <tbody>\n",
       "  </tbody>\n",
       "</table>\n",
       "<p>0 rows × 23 columns</p>\n",
       "</div>"
      ],
      "text/plain": [
       "Empty DataFrame\n",
       "Columns: [name, market_value, club, country, league, nationality, age, height, preferred_foot, position, shirt_number, attacking, technical, tactical, defending, creativity, saves, anticipation, ball_distribution, aerial, avg_score_last_12_months, appearances_last_12_months, point_of_tournament]\n",
       "Index: []\n",
       "\n",
       "[0 rows x 23 columns]"
      ]
     },
     "execution_count": 194,
     "metadata": {},
     "output_type": "execute_result"
    }
   ],
   "source": [
    "players[players['point_of_tournament'].isna()].head(3)"
   ]
  },
  {
   "cell_type": "code",
   "execution_count": 195,
   "metadata": {},
   "outputs": [
    {
     "name": "stdout",
     "output_type": "stream",
     "text": [
      "(1865, 22)\n"
     ]
    }
   ],
   "source": [
    "players = players.drop('point_of_tournament', axis=1)\n",
    "players = players.sample(n=1865, random_state=42)\n",
    "print(players.shape)"
   ]
  },
  {
   "cell_type": "markdown",
   "metadata": {},
   "source": [
    "### ** Ghi lại file data clean **"
   ]
  },
  {
   "cell_type": "code",
   "execution_count": 196,
   "metadata": {},
   "outputs": [],
   "source": [
    "players.to_csv('players.csv', index=False)\n",
    "clubs.to_csv('clubs.csv', index=False)\n",
    "countries.to_csv('countries.csv', index=False)"
   ]
  }
 ],
 "metadata": {
  "kernelspec": {
   "display_name": "Python 3",
   "language": "python",
   "name": "python3"
  },
  "language_info": {
   "codemirror_mode": {
    "name": "ipython",
    "version": 3
   },
   "file_extension": ".py",
   "mimetype": "text/x-python",
   "name": "python",
   "nbconvert_exporter": "python",
   "pygments_lexer": "ipython3",
   "version": "3.12.1"
  }
 },
 "nbformat": 4,
 "nbformat_minor": 2
}
